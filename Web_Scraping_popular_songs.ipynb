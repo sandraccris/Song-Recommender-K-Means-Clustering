{
 "cells": [
  {
   "cell_type": "markdown",
   "id": "97853555",
   "metadata": {},
   "source": [
    "# **Scenario**\n",
    "\n",
    "You have been hired as a Data Analyst for \"Gnod\".\n",
    "\n",
    "\"Gnod\" is a site that provides recommendations for music, art, literature and products based on collaborative filtering algorithms. Their flagship product is the music recommender, which you can try at www.gnoosic.com. The site asks users to input 3 bands they like, and computes similarity scores with the rest of the users. Then, they recommend to the user bands that users with similar tastes have picked.\n",
    "\n",
    "\"Gnod\" is a small company, and its only revenue stream so far are adds in the site. In the future, they would like to explore partnership options with music apps (such as Deezer, Soundcloud or even Apple Music and Spotify). However, for that to be possible, they need to expand and improve their recommendations.\n",
    "\n",
    "That's precisely where you come. They have hired you as a Data Analyst, and they expect you to bring a mix of technical expertise and business mindset to the table.\n"
   ]
  },
  {
   "cell_type": "markdown",
   "id": "6d9c801e",
   "metadata": {},
   "source": [
    "**The goal of the company (Gnod)**: Explore partnership options with music apps(Deezer, Soundcloud, Apple Music, Spotify etc.)\n",
    "\n",
    "**Their current product (Gnoosic)**: Music Recommender (asks users to input 3 bands they like, and computes similarity scores with the rest of the users. Then, they recommend to the user bands that users with similar tastes have picked).\n",
    "\n",
    "**How your project fits into this context**: Expand and improve music recommendations. Enhance song recommendations (not only bands)."
   ]
  },
  {
   "cell_type": "markdown",
   "id": "6b7b36ab",
   "metadata": {},
   "source": [
    "### **Instructions - Scraping popular songs**\n",
    "\n",
    "Scrape the current most popular songs and their respective artists.\n",
    "\n",
    "Your product will take a song as an input from the user and will output another song (the recommendation). In most cases, the recommended song will have to be similar to the inputted song, but the CTO thinks that if the song is on the top charts at the moment, the user will enjoy more a recommendation of a song that's also popular at the moment.\n",
    "\n"
   ]
  },
  {
   "cell_type": "markdown",
   "id": "99931e1f",
   "metadata": {},
   "source": [
    "## Billboard Hot 100"
   ]
  },
  {
   "cell_type": "markdown",
   "id": "5e09d112",
   "metadata": {},
   "source": [
    "### 1. Scrape the current top 100 songs and their respective artists, and put the information into a pandas dataframe."
   ]
  },
  {
   "cell_type": "code",
   "execution_count": 1,
   "id": "46543f13",
   "metadata": {},
   "outputs": [],
   "source": [
    "import requests\n",
    "import pandas as pd\n",
    "from bs4 import BeautifulSoup"
   ]
  },
  {
   "cell_type": "code",
   "execution_count": 2,
   "id": "ad0e935c",
   "metadata": {},
   "outputs": [],
   "source": [
    "## Getting the html code of the web page\n",
    "url = \"https://www.billboard.com/charts/hot-100/\""
   ]
  },
  {
   "cell_type": "code",
   "execution_count": 3,
   "id": "933da6c4",
   "metadata": {},
   "outputs": [
    {
     "data": {
      "text/plain": [
       "<Response [200]>"
      ]
     },
     "execution_count": 3,
     "metadata": {},
     "output_type": "execute_result"
    }
   ],
   "source": [
    "response = requests.get(url)\n",
    "response # 200 status code means OK!"
   ]
  },
  {
   "cell_type": "code",
   "execution_count": 4,
   "id": "32b8c1ca",
   "metadata": {
    "scrolled": false
   },
   "outputs": [],
   "source": [
    "## Parsing the html code\n",
    "soup = BeautifulSoup(response.content, \"html.parser\")\n",
    "#soup"
   ]
  },
  {
   "cell_type": "code",
   "execution_count": 5,
   "id": "94f1261b",
   "metadata": {},
   "outputs": [],
   "source": [
    "#creating 2 empty lists\n",
    "songs=[]\n",
    "artists=[]"
   ]
  },
  {
   "cell_type": "code",
   "execution_count": 6,
   "id": "2258f61a",
   "metadata": {},
   "outputs": [],
   "source": [
    "# First song (rest of the songs have a different htlm code!)\n",
    "\n",
    "first_song=soup.find('h3').get_text(strip=True)\n",
    "songs.append(first_song)"
   ]
  },
  {
   "cell_type": "code",
   "execution_count": 7,
   "id": "5dc98fba",
   "metadata": {},
   "outputs": [],
   "source": [
    "# rest of the songs\n",
    "\n",
    "song_titles=soup.find_all(\"h3\", attrs={\"class\": \"c-title a-no-trucate a-font-primary-bold-s u-letter-spacing-0021 lrv-u-font-size-18@tablet lrv-u-font-size-16 u-line-height-125 u-line-height-normal@mobile-max a-truncate-ellipsis u-max-width-330 u-max-width-230@tablet-only\"})\n",
    "#song_titles"
   ]
  },
  {
   "cell_type": "code",
   "execution_count": 8,
   "id": "f3804feb",
   "metadata": {
    "scrolled": true
   },
   "outputs": [
    {
     "data": {
      "text/plain": [
       "['Last Night',\n",
       " 'Fast Car',\n",
       " 'Calm Down',\n",
       " 'Flowers',\n",
       " 'All My Life',\n",
       " 'Favorite Song',\n",
       " 'Barbie World',\n",
       " 'Karma',\n",
       " 'Kill Bill',\n",
       " \"Creepin'\",\n",
       " 'Snooze',\n",
       " 'Fukumean',\n",
       " 'Cruel Summer',\n",
       " 'Ella Baila Sola',\n",
       " 'Sure Thing',\n",
       " 'Anti-Hero',\n",
       " 'Something In The Orange',\n",
       " 'Need A Favor',\n",
       " 'Oh U Went',\n",
       " 'Die For You',\n",
       " 'You Proof',\n",
       " \"Thinkin' Bout Me\",\n",
       " 'Next Thing You Know',\n",
       " 'Cupid',\n",
       " 'La Bebe',\n",
       " 'Sabor Fresa',\n",
       " 'Memory Lane',\n",
       " 'Un x100to',\n",
       " 'Chemical',\n",
       " 'Luna',\n",
       " 'Dance The Night',\n",
       " 'Religiously',\n",
       " \"I'm Good (Blue)\",\n",
       " 'Eyes Closed',\n",
       " 'Lady Gaga',\n",
       " 'Search & Rescue',\n",
       " 'Thought You Should Know',\n",
       " 'Where She Goes',\n",
       " 'Parade On Cleveland',\n",
       " \"Dancin' In The Country\",\n",
       " 'Put It On Da Floor Again',\n",
       " 'Area Codes',\n",
       " \"Boy's A Liar, Pt. 2\",\n",
       " 'Bury Me In Georgia',\n",
       " 'Love You Anyway',\n",
       " 'TQM',\n",
       " 'Thank God',\n",
       " 'Bye',\n",
       " 'One Thing At A Time',\n",
       " 'Players',\n",
       " 'Stand By Me',\n",
       " 'Cars Bring Me Out',\n",
       " 'Princess Diana',\n",
       " 'VVS',\n",
       " 'Bzrp Music Sessions, Vol. 55',\n",
       " 'Wit Da Racks',\n",
       " 'Daylight',\n",
       " 'Doomsday.',\n",
       " 'Want Me Dead',\n",
       " 'Attention',\n",
       " 'Peaches & Eggplants',\n",
       " 'What It Is (Block Boy)',\n",
       " 'Rubicon',\n",
       " 'Back To The Moon',\n",
       " 'Your Heart Or Mine',\n",
       " 'Calling',\n",
       " 'You, Me, & Whiskey',\n",
       " 'Waffle House',\n",
       " 'Mourning',\n",
       " 'Hellcat Kenny',\n",
       " 'TQG',\n",
       " 'PRC',\n",
       " \"Baby Don't Hurt Me\",\n",
       " 'See You Again',\n",
       " 'Popular',\n",
       " 'Por Las Noches',\n",
       " 'Dial Drunk',\n",
       " 'Money On The Dresser',\n",
       " 'Annihilate',\n",
       " 'El Azul',\n",
       " 'Uncle M',\n",
       " 'Cowgirls',\n",
       " 'Rodeo Dr',\n",
       " 'Fight The Feeling',\n",
       " 'Self Love',\n",
       " 'Nueva Vida',\n",
       " 'Fragil',\n",
       " 'Bread & Butter',\n",
       " 'Watermelon Moonshine',\n",
       " 'Lagunas',\n",
       " 'Am I Dreaming',\n",
       " \"Ain't That Some\",\n",
       " 'Rosa Pastel',\n",
       " 'Pound Town 2',\n",
       " 'ICU',\n",
       " 'Jaded',\n",
       " 'Abracadabra',\n",
       " 'Truck Bed',\n",
       " 'Save Me',\n",
       " 'Gucci Grocery Bag']"
      ]
     },
     "execution_count": 8,
     "metadata": {},
     "output_type": "execute_result"
    }
   ],
   "source": [
    "for title in song_titles:\n",
    "    \n",
    "    title_ = title.get_text(strip=True)\n",
    "    #print(title_)\n",
    "    songs.append(title_)\n",
    "\n",
    "songs"
   ]
  },
  {
   "cell_type": "code",
   "execution_count": 9,
   "id": "d94c4921",
   "metadata": {},
   "outputs": [
    {
     "data": {
      "text/plain": [
       "100"
      ]
     },
     "execution_count": 9,
     "metadata": {},
     "output_type": "execute_result"
    }
   ],
   "source": [
    "len(songs)"
   ]
  },
  {
   "cell_type": "code",
   "execution_count": 10,
   "id": "e2fda553",
   "metadata": {},
   "outputs": [],
   "source": [
    "# Artists\n",
    "\n",
    "#First artist  (different html code from rest of artists)\n",
    "\n",
    "first_artist = \"c-label a-no-trucate a-font-primary-s lrv-u-font-size-14@mobile-max u-line-height-normal@mobile-max u-letter-spacing-0021 lrv-u-display-block a-truncate-ellipsis-2line u-max-width-330 u-max-width-230@tablet-only u-font-size-20@tablet\"\n",
    "first_= soup.find_all(\"span\", attrs={\"class\": first_artist})"
   ]
  },
  {
   "cell_type": "code",
   "execution_count": 11,
   "id": "61307a5f",
   "metadata": {},
   "outputs": [],
   "source": [
    "for i in first_:\n",
    "    \n",
    "    first_artist = i.get_text(strip=True)\n",
    "    artists.append(first_artist)"
   ]
  },
  {
   "cell_type": "code",
   "execution_count": null,
   "id": "e9fa56b6",
   "metadata": {},
   "outputs": [],
   "source": [
    "#Rest of the artists\n",
    "\n",
    "artists_=\"c-label a-no-trucate a-font-primary-s lrv-u-font-size-14@mobile-max u-line-height-normal@mobile-max u-letter-spacing-0021 lrv-u-display-block a-truncate-ellipsis-2line u-max-width-330 u-max-width-230@tablet-only\"\n",
    "artists2 = soup.find_all(\"span\", attrs={\"class\": artists_})\n",
    "#artists2"
   ]
  },
  {
   "cell_type": "code",
   "execution_count": 14,
   "id": "f334656a",
   "metadata": {},
   "outputs": [],
   "source": [
    "for i in artists2:\n",
    "    \n",
    "    artist_list = i.get_text(strip=True)\n",
    "    artists.append(artist_list)"
   ]
  },
  {
   "cell_type": "code",
   "execution_count": 18,
   "id": "e5aafb7d",
   "metadata": {
    "scrolled": true
   },
   "outputs": [
    {
     "data": {
      "text/plain": [
       "100"
      ]
     },
     "execution_count": 18,
     "metadata": {},
     "output_type": "execute_result"
    }
   ],
   "source": [
    "len(artists)"
   ]
  },
  {
   "cell_type": "code",
   "execution_count": 19,
   "id": "cb0a2605",
   "metadata": {},
   "outputs": [
    {
     "data": {
      "text/html": [
       "<div>\n",
       "<style scoped>\n",
       "    .dataframe tbody tr th:only-of-type {\n",
       "        vertical-align: middle;\n",
       "    }\n",
       "\n",
       "    .dataframe tbody tr th {\n",
       "        vertical-align: top;\n",
       "    }\n",
       "\n",
       "    .dataframe thead th {\n",
       "        text-align: right;\n",
       "    }\n",
       "</style>\n",
       "<table border=\"1\" class=\"dataframe\">\n",
       "  <thead>\n",
       "    <tr style=\"text-align: right;\">\n",
       "      <th></th>\n",
       "      <th>artists</th>\n",
       "      <th>songs</th>\n",
       "    </tr>\n",
       "  </thead>\n",
       "  <tbody>\n",
       "    <tr>\n",
       "      <th>0</th>\n",
       "      <td>Morgan Wallen</td>\n",
       "      <td>Last Night</td>\n",
       "    </tr>\n",
       "    <tr>\n",
       "      <th>1</th>\n",
       "      <td>Luke Combs</td>\n",
       "      <td>Fast Car</td>\n",
       "    </tr>\n",
       "    <tr>\n",
       "      <th>2</th>\n",
       "      <td>Rema &amp; Selena Gomez</td>\n",
       "      <td>Calm Down</td>\n",
       "    </tr>\n",
       "    <tr>\n",
       "      <th>3</th>\n",
       "      <td>Miley Cyrus</td>\n",
       "      <td>Flowers</td>\n",
       "    </tr>\n",
       "    <tr>\n",
       "      <th>4</th>\n",
       "      <td>Lil Durk Featuring J. Cole</td>\n",
       "      <td>All My Life</td>\n",
       "    </tr>\n",
       "  </tbody>\n",
       "</table>\n",
       "</div>"
      ],
      "text/plain": [
       "                      artists        songs\n",
       "0               Morgan Wallen   Last Night\n",
       "1                  Luke Combs     Fast Car\n",
       "2         Rema & Selena Gomez    Calm Down\n",
       "3                 Miley Cyrus      Flowers\n",
       "4  Lil Durk Featuring J. Cole  All My Life"
      ]
     },
     "execution_count": 19,
     "metadata": {},
     "output_type": "execute_result"
    }
   ],
   "source": [
    "## Constructing the dataframe\n",
    "\n",
    "# each list becomes a column\n",
    "df = pd.DataFrame({\"artists\":artists,\n",
    "                       \"songs\":songs\n",
    "                      })\n",
    "\n",
    "df.head()"
   ]
  },
  {
   "cell_type": "code",
   "execution_count": 21,
   "id": "33efc62e",
   "metadata": {},
   "outputs": [
    {
     "data": {
      "text/plain": [
       "artists     68\n",
       "songs      100\n",
       "dtype: int64"
      ]
     },
     "execution_count": 21,
     "metadata": {},
     "output_type": "execute_result"
    }
   ],
   "source": [
    "df.nunique()"
   ]
  },
  {
   "cell_type": "code",
   "execution_count": 20,
   "id": "bfdf56e1",
   "metadata": {
    "scrolled": false
   },
   "outputs": [
    {
     "data": {
      "text/plain": [
       "                                 19\n",
       "Morgan Wallen                     6\n",
       "Gunna                             4\n",
       "Miley Cyrus                       2\n",
       "Luke Combs                        2\n",
       "                                 ..\n",
       "Latto Featuring Cardi B           1\n",
       "Kali                              1\n",
       "PinkPantheress & Ice Spice        1\n",
       "Kane Brown                        1\n",
       "Jelly Roll With Lainey Wilson     1\n",
       "Name: artists, Length: 68, dtype: int64"
      ]
     },
     "execution_count": 20,
     "metadata": {},
     "output_type": "execute_result"
    }
   ],
   "source": [
    "df.artists.value_counts()"
   ]
  },
  {
   "cell_type": "code",
   "execution_count": null,
   "id": "12e23758",
   "metadata": {},
   "outputs": [],
   "source": [
    "# some artists have multiple songs on the top 100."
   ]
  },
  {
   "cell_type": "markdown",
   "id": "ef0f299b",
   "metadata": {},
   "source": [
    "## RollingStone The 100 Best Songs of 2022"
   ]
  },
  {
   "cell_type": "code",
   "execution_count": 22,
   "id": "85d6d545",
   "metadata": {},
   "outputs": [],
   "source": [
    "## Getting the html code for the first 50 songs\n",
    "url2 = \"https://www.rollingstone.com/music/music-lists/best-songs-2022-list-1234632381/\""
   ]
  },
  {
   "cell_type": "code",
   "execution_count": 23,
   "id": "08c69048",
   "metadata": {
    "scrolled": true
   },
   "outputs": [
    {
     "data": {
      "text/plain": [
       "<Response [200]>"
      ]
     },
     "execution_count": 23,
     "metadata": {},
     "output_type": "execute_result"
    }
   ],
   "source": [
    "response2 = requests.get(url2)\n",
    "response2"
   ]
  },
  {
   "cell_type": "code",
   "execution_count": 24,
   "id": "782a2a34",
   "metadata": {},
   "outputs": [],
   "source": [
    "## Parsing the html code\n",
    "soup2 = BeautifulSoup(response2.content, \"html.parser\")\n",
    "#soup2"
   ]
  },
  {
   "cell_type": "code",
   "execution_count": 25,
   "id": "9928747d",
   "metadata": {},
   "outputs": [],
   "source": [
    "#creating 2 empty lists\n",
    "songs2=[]\n",
    "artists2=[]"
   ]
  },
  {
   "cell_type": "code",
   "execution_count": 26,
   "id": "afa83c7a",
   "metadata": {},
   "outputs": [],
   "source": [
    "for songs in soup2.find_all(\"article\", attrs={\"class\": \"pmc-fallback-list-item\"}):\n",
    "    songs2.append(songs.find('h2').get_text())"
   ]
  },
  {
   "cell_type": "code",
   "execution_count": null,
   "id": "ae9ba2f4",
   "metadata": {},
   "outputs": [],
   "source": [
    "songs2"
   ]
  },
  {
   "cell_type": "code",
   "execution_count": 27,
   "id": "b44f618d",
   "metadata": {},
   "outputs": [
    {
     "data": {
      "text/plain": [
       "50"
      ]
     },
     "execution_count": 27,
     "metadata": {},
     "output_type": "execute_result"
    }
   ],
   "source": [
    "len(songs2)"
   ]
  },
  {
   "cell_type": "code",
   "execution_count": 28,
   "id": "8f2d7509",
   "metadata": {},
   "outputs": [],
   "source": [
    "## Getting the html code for the next 50 songs\n",
    "\n",
    "url3=\"https://www.rollingstone.com/music/music-lists/best-songs-2022-list-1234632381/bad-bunny-ft-bomba-estereo-ojitos-lindos-1234632596/\""
   ]
  },
  {
   "cell_type": "code",
   "execution_count": 29,
   "id": "3d911d43",
   "metadata": {},
   "outputs": [
    {
     "data": {
      "text/plain": [
       "<Response [200]>"
      ]
     },
     "execution_count": 29,
     "metadata": {},
     "output_type": "execute_result"
    }
   ],
   "source": [
    "response3= requests.get(url3)\n",
    "response3"
   ]
  },
  {
   "cell_type": "code",
   "execution_count": 31,
   "id": "4f893257",
   "metadata": {},
   "outputs": [],
   "source": [
    "## Parsing the html code\n",
    "soup3 = BeautifulSoup(response3.content, \"html.parser\")\n",
    "#soup3"
   ]
  },
  {
   "cell_type": "code",
   "execution_count": 32,
   "id": "733448ad",
   "metadata": {},
   "outputs": [],
   "source": [
    "for songs in soup3.find_all(\"article\", attrs={\"class\": \"pmc-fallback-list-item\"}):\n",
    "    songs2.append(songs.find('h2').get_text())"
   ]
  },
  {
   "cell_type": "code",
   "execution_count": null,
   "id": "babd7ac4",
   "metadata": {},
   "outputs": [],
   "source": [
    "songs2"
   ]
  },
  {
   "cell_type": "code",
   "execution_count": 33,
   "id": "72b97f4c",
   "metadata": {
    "scrolled": true
   },
   "outputs": [
    {
     "data": {
      "text/plain": [
       "100"
      ]
     },
     "execution_count": 33,
     "metadata": {},
     "output_type": "execute_result"
    }
   ],
   "source": [
    "len(songs2)"
   ]
  },
  {
   "cell_type": "code",
   "execution_count": 35,
   "id": "6a8bc32a",
   "metadata": {},
   "outputs": [
    {
     "data": {
      "text/html": [
       "<div>\n",
       "<style scoped>\n",
       "    .dataframe tbody tr th:only-of-type {\n",
       "        vertical-align: middle;\n",
       "    }\n",
       "\n",
       "    .dataframe tbody tr th {\n",
       "        vertical-align: top;\n",
       "    }\n",
       "\n",
       "    .dataframe thead th {\n",
       "        text-align: right;\n",
       "    }\n",
       "</style>\n",
       "<table border=\"1\" class=\"dataframe\">\n",
       "  <thead>\n",
       "    <tr style=\"text-align: right;\">\n",
       "      <th></th>\n",
       "      <th>artists_songs</th>\n",
       "    </tr>\n",
       "  </thead>\n",
       "  <tbody>\n",
       "    <tr>\n",
       "      <th>0</th>\n",
       "      <td>Lainey Wilson, ‘Heart Like a Truck’</td>\n",
       "    </tr>\n",
       "    <tr>\n",
       "      <th>1</th>\n",
       "      <td>Chronixx, ‘Never Give Up’</td>\n",
       "    </tr>\n",
       "    <tr>\n",
       "      <th>2</th>\n",
       "      <td>Plains, ‘Problem With It’</td>\n",
       "    </tr>\n",
       "    <tr>\n",
       "      <th>3</th>\n",
       "      <td>Hurray for the Riff Raff, ‘Saga’</td>\n",
       "    </tr>\n",
       "    <tr>\n",
       "      <th>4</th>\n",
       "      <td>Camilo ft. Grupo Firme, ‘Alaska’</td>\n",
       "    </tr>\n",
       "  </tbody>\n",
       "</table>\n",
       "</div>"
      ],
      "text/plain": [
       "                         artists_songs\n",
       "0  Lainey Wilson, ‘Heart Like a Truck’\n",
       "1            Chronixx, ‘Never Give Up’\n",
       "2            Plains, ‘Problem With It’\n",
       "3     Hurray for the Riff Raff, ‘Saga’\n",
       "4     Camilo ft. Grupo Firme, ‘Alaska’"
      ]
     },
     "execution_count": 35,
     "metadata": {},
     "output_type": "execute_result"
    }
   ],
   "source": [
    "## Constructing the dataframe\n",
    "\n",
    "# each list becomes a column\n",
    "df2 = pd.DataFrame({\"artists_songs\":songs2})\n",
    "df2.head(5)"
   ]
  },
  {
   "cell_type": "code",
   "execution_count": 36,
   "id": "90015a71",
   "metadata": {
    "scrolled": true
   },
   "outputs": [],
   "source": [
    "# splitting artist and song\n",
    "\n",
    "df2 = df2['artists_songs'].str.split(\",\", n=1, expand=True)\n",
    "# n= Limit number of splits in output.\n",
    "# expand = If True, return DataFrame/MultiIndex expanding dimensionality."
   ]
  },
  {
   "cell_type": "code",
   "execution_count": 37,
   "id": "be06d35b",
   "metadata": {},
   "outputs": [
    {
     "data": {
      "text/html": [
       "<div>\n",
       "<style scoped>\n",
       "    .dataframe tbody tr th:only-of-type {\n",
       "        vertical-align: middle;\n",
       "    }\n",
       "\n",
       "    .dataframe tbody tr th {\n",
       "        vertical-align: top;\n",
       "    }\n",
       "\n",
       "    .dataframe thead th {\n",
       "        text-align: right;\n",
       "    }\n",
       "</style>\n",
       "<table border=\"1\" class=\"dataframe\">\n",
       "  <thead>\n",
       "    <tr style=\"text-align: right;\">\n",
       "      <th></th>\n",
       "      <th>0</th>\n",
       "      <th>1</th>\n",
       "    </tr>\n",
       "  </thead>\n",
       "  <tbody>\n",
       "    <tr>\n",
       "      <th>0</th>\n",
       "      <td>Lainey Wilson</td>\n",
       "      <td>‘Heart Like a Truck’</td>\n",
       "    </tr>\n",
       "    <tr>\n",
       "      <th>1</th>\n",
       "      <td>Chronixx</td>\n",
       "      <td>‘Never Give Up’</td>\n",
       "    </tr>\n",
       "    <tr>\n",
       "      <th>2</th>\n",
       "      <td>Plains</td>\n",
       "      <td>‘Problem With It’</td>\n",
       "    </tr>\n",
       "    <tr>\n",
       "      <th>3</th>\n",
       "      <td>Hurray for the Riff Raff</td>\n",
       "      <td>‘Saga’</td>\n",
       "    </tr>\n",
       "    <tr>\n",
       "      <th>4</th>\n",
       "      <td>Camilo ft. Grupo Firme</td>\n",
       "      <td>‘Alaska’</td>\n",
       "    </tr>\n",
       "  </tbody>\n",
       "</table>\n",
       "</div>"
      ],
      "text/plain": [
       "                          0                      1\n",
       "0             Lainey Wilson   ‘Heart Like a Truck’\n",
       "1                  Chronixx        ‘Never Give Up’\n",
       "2                    Plains      ‘Problem With It’\n",
       "3  Hurray for the Riff Raff                 ‘Saga’\n",
       "4    Camilo ft. Grupo Firme               ‘Alaska’"
      ]
     },
     "execution_count": 37,
     "metadata": {},
     "output_type": "execute_result"
    }
   ],
   "source": [
    "df2.head(5)"
   ]
  },
  {
   "cell_type": "code",
   "execution_count": 38,
   "id": "c8e7b117",
   "metadata": {
    "scrolled": false
   },
   "outputs": [],
   "source": [
    "#adding column names\n",
    "\n",
    "cols=[\"artists\", \"songs\"]\n",
    "df2.columns=cols"
   ]
  },
  {
   "cell_type": "code",
   "execution_count": 39,
   "id": "662eba11",
   "metadata": {},
   "outputs": [],
   "source": [
    "df2[\"songs\"] = df2[\"songs\"].str.replace(\" \",\"\")"
   ]
  },
  {
   "cell_type": "code",
   "execution_count": 40,
   "id": "08a2cdfa",
   "metadata": {},
   "outputs": [],
   "source": [
    "df2[\"songs\"] = df2[\"songs\"].str.strip(\"‘’\")"
   ]
  },
  {
   "cell_type": "code",
   "execution_count": 42,
   "id": "95403b19",
   "metadata": {},
   "outputs": [
    {
     "data": {
      "text/html": [
       "<div>\n",
       "<style scoped>\n",
       "    .dataframe tbody tr th:only-of-type {\n",
       "        vertical-align: middle;\n",
       "    }\n",
       "\n",
       "    .dataframe tbody tr th {\n",
       "        vertical-align: top;\n",
       "    }\n",
       "\n",
       "    .dataframe thead th {\n",
       "        text-align: right;\n",
       "    }\n",
       "</style>\n",
       "<table border=\"1\" class=\"dataframe\">\n",
       "  <thead>\n",
       "    <tr style=\"text-align: right;\">\n",
       "      <th></th>\n",
       "      <th>artists</th>\n",
       "      <th>songs</th>\n",
       "    </tr>\n",
       "  </thead>\n",
       "  <tbody>\n",
       "    <tr>\n",
       "      <th>0</th>\n",
       "      <td>Morgan Wallen</td>\n",
       "      <td>Last Night</td>\n",
       "    </tr>\n",
       "    <tr>\n",
       "      <th>1</th>\n",
       "      <td>Luke Combs</td>\n",
       "      <td>Fast Car</td>\n",
       "    </tr>\n",
       "    <tr>\n",
       "      <th>2</th>\n",
       "      <td>Rema &amp; Selena Gomez</td>\n",
       "      <td>Calm Down</td>\n",
       "    </tr>\n",
       "    <tr>\n",
       "      <th>3</th>\n",
       "      <td>Miley Cyrus</td>\n",
       "      <td>Flowers</td>\n",
       "    </tr>\n",
       "    <tr>\n",
       "      <th>4</th>\n",
       "      <td>Lil Durk Featuring J. Cole</td>\n",
       "      <td>All My Life</td>\n",
       "    </tr>\n",
       "  </tbody>\n",
       "</table>\n",
       "</div>"
      ],
      "text/plain": [
       "                      artists        songs\n",
       "0               Morgan Wallen   Last Night\n",
       "1                  Luke Combs     Fast Car\n",
       "2         Rema & Selena Gomez    Calm Down\n",
       "3                 Miley Cyrus      Flowers\n",
       "4  Lil Durk Featuring J. Cole  All My Life"
      ]
     },
     "execution_count": 42,
     "metadata": {},
     "output_type": "execute_result"
    }
   ],
   "source": [
    "# Concatenating both Billboard and Rollingstone dataframes along the index.\n",
    "\n",
    "final_df = pd.concat([df, df2], axis=0)\n",
    "final_df.head()"
   ]
  },
  {
   "cell_type": "code",
   "execution_count": 43,
   "id": "cf04d2b2",
   "metadata": {},
   "outputs": [
    {
     "data": {
      "text/plain": [
       "(200, 2)"
      ]
     },
     "execution_count": 43,
     "metadata": {},
     "output_type": "execute_result"
    }
   ],
   "source": [
    "final_df.shape"
   ]
  },
  {
   "cell_type": "code",
   "execution_count": null,
   "id": "db3adffb",
   "metadata": {},
   "outputs": [],
   "source": [
    "# saving to a csv file\n",
    "\n",
    "final_df.to_csv(\"top_songs.csv\")"
   ]
  }
 ],
 "metadata": {
  "kernelspec": {
   "display_name": "Python 3 (ipykernel)",
   "language": "python",
   "name": "python3"
  },
  "language_info": {
   "codemirror_mode": {
    "name": "ipython",
    "version": 3
   },
   "file_extension": ".py",
   "mimetype": "text/x-python",
   "name": "python",
   "nbconvert_exporter": "python",
   "pygments_lexer": "ipython3",
   "version": "3.9.13"
  }
 },
 "nbformat": 4,
 "nbformat_minor": 5
}
