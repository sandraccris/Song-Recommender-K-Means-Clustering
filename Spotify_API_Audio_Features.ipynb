{
 "cells": [
  {
   "cell_type": "markdown",
   "id": "d8e11c78",
   "metadata": {},
   "source": [
    "# Spotify API: Collection of Songs & Audio Features"
   ]
  },
  {
   "cell_type": "markdown",
   "id": "ea0fc676",
   "metadata": {},
   "source": [
    "**Instructions**\n",
    "\n",
    "To move forward with the project, you need to create a collection of songs with their audio features - as large as possible!\n",
    "\n",
    "These are the songs that we will cluster. And, later, when the user inputs a song, we will find the cluster to which the song belongs and recommend a song from the same cluster. The more songs you have, the more accurate and diverse recommendations you'll be able to give.\n"
   ]
  },
  {
   "cell_type": "code",
   "execution_count": 1,
   "id": "43847a95",
   "metadata": {},
   "outputs": [],
   "source": [
    "import pandas as pd\n",
    "from bs4 import BeautifulSoup\n",
    "import spotipy\n",
    "from spotipy.oauth2 import SpotifyClientCredentials\n",
    "import pprint\n",
    "\n",
    "\n",
    "#Initialize SpotiPy with user credentias\n",
    "\n",
    "sp = spotipy.Spotify(auth_manager=SpotifyClientCredentials(client_id=\"af3a4e21d9974f798b0ddef081728f2b\",\n",
    "                                                           client_secret=\"99a65d20eff04d64bcf24b11824dffc4\"))   #we start spotify connection"
   ]
  },
  {
   "cell_type": "markdown",
   "id": "1eab6fdb",
   "metadata": {},
   "source": [
    "## Playlist 1: Top 100 Most Streamed Songs  on Spotify\n",
    "https://open.spotify.com/playlist/5ABHKGoOzxkaa28ttQV9sE"
   ]
  },
  {
   "cell_type": "code",
   "execution_count": 2,
   "id": "bd2beb6f",
   "metadata": {
    "scrolled": false
   },
   "outputs": [],
   "source": [
    "playlist1 = sp.user_playlist_tracks(\"spotify\", \"5ABHKGoOzxkaa28ttQV9sE\") \n",
    "#playlist1\n",
    "#pprint.pprint(playlist1)"
   ]
  },
  {
   "cell_type": "code",
   "execution_count": 4,
   "id": "a511e98a",
   "metadata": {},
   "outputs": [
    {
     "data": {
      "text/plain": [
       "100"
      ]
     },
     "execution_count": 4,
     "metadata": {},
     "output_type": "execute_result"
    }
   ],
   "source": [
    "playlist1[\"total\"]\n",
    "#100 songs in total"
   ]
  },
  {
   "cell_type": "code",
   "execution_count": 5,
   "id": "7009a8a7",
   "metadata": {
    "scrolled": true
   },
   "outputs": [
    {
     "data": {
      "text/plain": [
       "dict_keys(['href', 'items', 'limit', 'next', 'offset', 'previous', 'total'])"
      ]
     },
     "execution_count": 5,
     "metadata": {},
     "output_type": "execute_result"
    }
   ],
   "source": [
    "playlist1.keys()"
   ]
  },
  {
   "cell_type": "code",
   "execution_count": 6,
   "id": "44e81175",
   "metadata": {
    "scrolled": true
   },
   "outputs": [
    {
     "data": {
      "text/plain": [
       "dict_keys(['added_at', 'added_by', 'is_local', 'primary_color', 'track', 'video_thumbnail'])"
      ]
     },
     "execution_count": 6,
     "metadata": {},
     "output_type": "execute_result"
    }
   ],
   "source": [
    "playlist1[\"items\"][0].keys()"
   ]
  },
  {
   "cell_type": "code",
   "execution_count": 7,
   "id": "dd381c17",
   "metadata": {},
   "outputs": [
    {
     "data": {
      "text/plain": [
       "dict_keys(['album', 'artists', 'available_markets', 'disc_number', 'duration_ms', 'episode', 'explicit', 'external_ids', 'external_urls', 'href', 'id', 'is_local', 'name', 'popularity', 'preview_url', 'track', 'track_number', 'type', 'uri'])"
      ]
     },
     "execution_count": 7,
     "metadata": {},
     "output_type": "execute_result"
    }
   ],
   "source": [
    "playlist1[\"items\"][0][\"track\"].keys()"
   ]
  },
  {
   "cell_type": "code",
   "execution_count": 8,
   "id": "c520d18f",
   "metadata": {
    "scrolled": false
   },
   "outputs": [
    {
     "data": {
      "text/plain": [
       "[{'external_urls': {'spotify': 'https://open.spotify.com/artist/1Xyo4u8uXC1ZmMpatF05PJ'},\n",
       "  'href': 'https://api.spotify.com/v1/artists/1Xyo4u8uXC1ZmMpatF05PJ',\n",
       "  'id': '1Xyo4u8uXC1ZmMpatF05PJ',\n",
       "  'name': 'The Weeknd',\n",
       "  'type': 'artist',\n",
       "  'uri': 'spotify:artist:1Xyo4u8uXC1ZmMpatF05PJ'}]"
      ]
     },
     "execution_count": 8,
     "metadata": {},
     "output_type": "execute_result"
    }
   ],
   "source": [
    "#navigate to artist info\n",
    "\n",
    "playlist1[\"items\"][0][\"track\"][\"artists\"]"
   ]
  },
  {
   "cell_type": "code",
   "execution_count": 9,
   "id": "7375e3a0",
   "metadata": {},
   "outputs": [
    {
     "data": {
      "text/plain": [
       "'The Weeknd'"
      ]
     },
     "execution_count": 9,
     "metadata": {},
     "output_type": "execute_result"
    }
   ],
   "source": [
    "#navigate to artist name\n",
    "\n",
    "playlist1[\"items\"][0][\"track\"][\"artists\"][0]['name']"
   ]
  },
  {
   "cell_type": "code",
   "execution_count": 10,
   "id": "c20d4776",
   "metadata": {
    "scrolled": true
   },
   "outputs": [
    {
     "data": {
      "text/plain": [
       "'Blinding Lights'"
      ]
     },
     "execution_count": 10,
     "metadata": {},
     "output_type": "execute_result"
    }
   ],
   "source": [
    "#navigate to song name\n",
    "\n",
    "playlist1[\"items\"][0][\"track\"][\"name\"]"
   ]
  },
  {
   "cell_type": "code",
   "execution_count": 11,
   "id": "efad2058",
   "metadata": {},
   "outputs": [
    {
     "data": {
      "text/plain": [
       "'0VjIjW4GlUZAMYd2vXMi3b'"
      ]
     },
     "execution_count": 11,
     "metadata": {},
     "output_type": "execute_result"
    }
   ],
   "source": [
    "#navigate to song id\n",
    "\n",
    "playlist1[\"items\"][0][\"track\"][\"id\"]"
   ]
  },
  {
   "cell_type": "code",
   "execution_count": 12,
   "id": "5ce29e76",
   "metadata": {},
   "outputs": [],
   "source": [
    "# Getting songs information (album...artist...etc) dictionary\n",
    "\n",
    "def get_songs(username, playlist_id):\n",
    "    \n",
    "    results = sp.user_playlist_tracks(username, playlist_id)\n",
    "    songs = results['items']\n",
    "    \n",
    "    while results['next']:\n",
    "        results = sp.next(results)\n",
    "        songs.extend(results['items'])\n",
    "    \n",
    "    return songs\n",
    "\n",
    "songs_dic = get_songs(\"spotify\", \"5ABHKGoOzxkaa28ttQV9sE\")\n",
    "#songs_dic"
   ]
  },
  {
   "cell_type": "code",
   "execution_count": 13,
   "id": "a5c1a94b",
   "metadata": {
    "scrolled": true
   },
   "outputs": [],
   "source": [
    "# Getting a LIST of all the song names and song id's from playlist \"Top 100 most streamed songs on Spotify\"\n",
    "\n",
    "songs_id = []\n",
    "songs_name = []\n",
    "\n",
    "for i in range (0, len(songs_dic)):\n",
    "    song_title = songs_dic[i][\"track\"][\"name\"]\n",
    "    id_song = songs_dic[i][\"track\"][\"id\"]\n",
    "    \n",
    "    songs_name.append(song_title)\n",
    "    songs_id.append(id_song)"
   ]
  },
  {
   "cell_type": "code",
   "execution_count": 14,
   "id": "ca8fb6a9",
   "metadata": {},
   "outputs": [
    {
     "data": {
      "text/plain": [
       "100"
      ]
     },
     "execution_count": 14,
     "metadata": {},
     "output_type": "execute_result"
    }
   ],
   "source": [
    "len(songs_id)"
   ]
  },
  {
   "cell_type": "code",
   "execution_count": 15,
   "id": "98f6da63",
   "metadata": {
    "scrolled": true
   },
   "outputs": [
    {
     "data": {
      "text/plain": [
       "100"
      ]
     },
     "execution_count": 15,
     "metadata": {},
     "output_type": "execute_result"
    }
   ],
   "source": [
    "len(songs_name)"
   ]
  },
  {
   "cell_type": "code",
   "execution_count": null,
   "id": "f6a7f9d2",
   "metadata": {},
   "outputs": [],
   "source": [
    "# or to get songs name:\n",
    "\n",
    "#songs_name = [songs_dic['track']['name'] for track in songs_dic]\n",
    "\n",
    "# song ids:\n",
    "\n",
    "#songs_id2 = [songs_dic['track']['id'] for track in songs_dic]\n",
    "#songs_id2"
   ]
  },
  {
   "cell_type": "code",
   "execution_count": 16,
   "id": "0e335beb",
   "metadata": {},
   "outputs": [],
   "source": [
    "# Getting a LIST of all artists name\n",
    "\n",
    "artist_=[]\n",
    "artists_name = []\n",
    "\n",
    "for i in range (len(songs_dic)):\n",
    "    artist_.append(songs_dic[i]['track']['artists'])\n",
    "    \n",
    "for i in range (len(artist_)):\n",
    "    artist_name_= artist_[i][0]['name']\n",
    "    artists_name.append(artist_name_)"
   ]
  },
  {
   "cell_type": "code",
   "execution_count": 17,
   "id": "d0b13762",
   "metadata": {},
   "outputs": [
    {
     "data": {
      "text/plain": [
       "100"
      ]
     },
     "execution_count": 17,
     "metadata": {},
     "output_type": "execute_result"
    }
   ],
   "source": [
    "len(artists_name)"
   ]
  },
  {
   "cell_type": "code",
   "execution_count": null,
   "id": "7d4fbbd5",
   "metadata": {},
   "outputs": [],
   "source": [
    "#Functin to get artists and artists id\n",
    "\n",
    "#def get_artist_and_ids_from_playlist(playlist_id):\n",
    "    \n",
    "    #tracks_from_playlist = get_playlist_tracks(\"spotify\", playlist_id)\n",
    "    \n",
    "    #artists = []\n",
    "    #artists_ids = []\n",
    "    \n",
    "    #for tracks in tracks_from_playlist:\n",
    "        #artists_info = track[\"track\"]['artists']\n",
    "        \n",
    "        #for artist in artists_info:\n",
    "            #artists.append(artist['name'])\n",
    "            #artists_ids.append(artist['id'])\n",
    "    \n",
    "    #return list(set(artists)), list(set(artists_ids))\n",
    "    \n",
    "    \n",
    " #artist_names, artists_ids = get_artist_and_ids_from_playlist('12Wbv8sIx84T5uh6iOoJ7V')"
   ]
  },
  {
   "cell_type": "code",
   "execution_count": 18,
   "id": "18279cc1",
   "metadata": {
    "scrolled": true
   },
   "outputs": [
    {
     "data": {
      "text/html": [
       "<div>\n",
       "<style scoped>\n",
       "    .dataframe tbody tr th:only-of-type {\n",
       "        vertical-align: middle;\n",
       "    }\n",
       "\n",
       "    .dataframe tbody tr th {\n",
       "        vertical-align: top;\n",
       "    }\n",
       "\n",
       "    .dataframe thead th {\n",
       "        text-align: right;\n",
       "    }\n",
       "</style>\n",
       "<table border=\"1\" class=\"dataframe\">\n",
       "  <thead>\n",
       "    <tr style=\"text-align: right;\">\n",
       "      <th></th>\n",
       "      <th>danceability</th>\n",
       "      <th>energy</th>\n",
       "      <th>key</th>\n",
       "      <th>loudness</th>\n",
       "      <th>mode</th>\n",
       "      <th>speechiness</th>\n",
       "      <th>acousticness</th>\n",
       "      <th>instrumentalness</th>\n",
       "      <th>liveness</th>\n",
       "      <th>valence</th>\n",
       "      <th>tempo</th>\n",
       "      <th>type</th>\n",
       "      <th>id</th>\n",
       "      <th>uri</th>\n",
       "      <th>track_href</th>\n",
       "      <th>analysis_url</th>\n",
       "      <th>duration_ms</th>\n",
       "      <th>time_signature</th>\n",
       "    </tr>\n",
       "  </thead>\n",
       "  <tbody>\n",
       "    <tr>\n",
       "      <th>0</th>\n",
       "      <td>0.514</td>\n",
       "      <td>0.730</td>\n",
       "      <td>1</td>\n",
       "      <td>-5.934</td>\n",
       "      <td>1</td>\n",
       "      <td>0.0598</td>\n",
       "      <td>0.00146</td>\n",
       "      <td>0.000095</td>\n",
       "      <td>0.0897</td>\n",
       "      <td>0.334</td>\n",
       "      <td>171.005</td>\n",
       "      <td>audio_features</td>\n",
       "      <td>0VjIjW4GlUZAMYd2vXMi3b</td>\n",
       "      <td>spotify:track:0VjIjW4GlUZAMYd2vXMi3b</td>\n",
       "      <td>https://api.spotify.com/v1/tracks/0VjIjW4GlUZA...</td>\n",
       "      <td>https://api.spotify.com/v1/audio-analysis/0VjI...</td>\n",
       "      <td>200040</td>\n",
       "      <td>4</td>\n",
       "    </tr>\n",
       "    <tr>\n",
       "      <th>1</th>\n",
       "      <td>0.825</td>\n",
       "      <td>0.652</td>\n",
       "      <td>1</td>\n",
       "      <td>-3.183</td>\n",
       "      <td>0</td>\n",
       "      <td>0.0802</td>\n",
       "      <td>0.58100</td>\n",
       "      <td>0.000000</td>\n",
       "      <td>0.0931</td>\n",
       "      <td>0.931</td>\n",
       "      <td>95.977</td>\n",
       "      <td>audio_features</td>\n",
       "      <td>7qiZfU4dY1lWllzX7mPBI3</td>\n",
       "      <td>spotify:track:7qiZfU4dY1lWllzX7mPBI3</td>\n",
       "      <td>https://api.spotify.com/v1/tracks/7qiZfU4dY1lW...</td>\n",
       "      <td>https://api.spotify.com/v1/audio-analysis/7qiZ...</td>\n",
       "      <td>233713</td>\n",
       "      <td>4</td>\n",
       "    </tr>\n",
       "    <tr>\n",
       "      <th>2</th>\n",
       "      <td>0.824</td>\n",
       "      <td>0.588</td>\n",
       "      <td>6</td>\n",
       "      <td>-6.400</td>\n",
       "      <td>0</td>\n",
       "      <td>0.0924</td>\n",
       "      <td>0.69200</td>\n",
       "      <td>0.000104</td>\n",
       "      <td>0.1490</td>\n",
       "      <td>0.513</td>\n",
       "      <td>98.027</td>\n",
       "      <td>audio_features</td>\n",
       "      <td>2XU0oxnq2qxCpomAAuJY8K</td>\n",
       "      <td>spotify:track:2XU0oxnq2qxCpomAAuJY8K</td>\n",
       "      <td>https://api.spotify.com/v1/tracks/2XU0oxnq2qxC...</td>\n",
       "      <td>https://api.spotify.com/v1/audio-analysis/2XU0...</td>\n",
       "      <td>209438</td>\n",
       "      <td>4</td>\n",
       "    </tr>\n",
       "    <tr>\n",
       "      <th>3</th>\n",
       "      <td>0.501</td>\n",
       "      <td>0.405</td>\n",
       "      <td>1</td>\n",
       "      <td>-5.679</td>\n",
       "      <td>1</td>\n",
       "      <td>0.0319</td>\n",
       "      <td>0.75100</td>\n",
       "      <td>0.000000</td>\n",
       "      <td>0.1050</td>\n",
       "      <td>0.446</td>\n",
       "      <td>109.891</td>\n",
       "      <td>audio_features</td>\n",
       "      <td>7qEHsqek33rTcFNT9PFqLf</td>\n",
       "      <td>spotify:track:7qEHsqek33rTcFNT9PFqLf</td>\n",
       "      <td>https://api.spotify.com/v1/tracks/7qEHsqek33rT...</td>\n",
       "      <td>https://api.spotify.com/v1/audio-analysis/7qEH...</td>\n",
       "      <td>182161</td>\n",
       "      <td>4</td>\n",
       "    </tr>\n",
       "    <tr>\n",
       "      <th>4</th>\n",
       "      <td>0.760</td>\n",
       "      <td>0.479</td>\n",
       "      <td>2</td>\n",
       "      <td>-5.574</td>\n",
       "      <td>1</td>\n",
       "      <td>0.0466</td>\n",
       "      <td>0.55600</td>\n",
       "      <td>0.000000</td>\n",
       "      <td>0.0703</td>\n",
       "      <td>0.913</td>\n",
       "      <td>89.911</td>\n",
       "      <td>audio_features</td>\n",
       "      <td>3KkXRkHbMCARz0aVfEt68P</td>\n",
       "      <td>spotify:track:3KkXRkHbMCARz0aVfEt68P</td>\n",
       "      <td>https://api.spotify.com/v1/tracks/3KkXRkHbMCAR...</td>\n",
       "      <td>https://api.spotify.com/v1/audio-analysis/3KkX...</td>\n",
       "      <td>158040</td>\n",
       "      <td>4</td>\n",
       "    </tr>\n",
       "  </tbody>\n",
       "</table>\n",
       "</div>"
      ],
      "text/plain": [
       "   danceability  energy  key  loudness  mode  speechiness  acousticness  \\\n",
       "0         0.514   0.730    1    -5.934     1       0.0598       0.00146   \n",
       "1         0.825   0.652    1    -3.183     0       0.0802       0.58100   \n",
       "2         0.824   0.588    6    -6.400     0       0.0924       0.69200   \n",
       "3         0.501   0.405    1    -5.679     1       0.0319       0.75100   \n",
       "4         0.760   0.479    2    -5.574     1       0.0466       0.55600   \n",
       "\n",
       "   instrumentalness  liveness  valence    tempo            type  \\\n",
       "0          0.000095    0.0897    0.334  171.005  audio_features   \n",
       "1          0.000000    0.0931    0.931   95.977  audio_features   \n",
       "2          0.000104    0.1490    0.513   98.027  audio_features   \n",
       "3          0.000000    0.1050    0.446  109.891  audio_features   \n",
       "4          0.000000    0.0703    0.913   89.911  audio_features   \n",
       "\n",
       "                       id                                   uri  \\\n",
       "0  0VjIjW4GlUZAMYd2vXMi3b  spotify:track:0VjIjW4GlUZAMYd2vXMi3b   \n",
       "1  7qiZfU4dY1lWllzX7mPBI3  spotify:track:7qiZfU4dY1lWllzX7mPBI3   \n",
       "2  2XU0oxnq2qxCpomAAuJY8K  spotify:track:2XU0oxnq2qxCpomAAuJY8K   \n",
       "3  7qEHsqek33rTcFNT9PFqLf  spotify:track:7qEHsqek33rTcFNT9PFqLf   \n",
       "4  3KkXRkHbMCARz0aVfEt68P  spotify:track:3KkXRkHbMCARz0aVfEt68P   \n",
       "\n",
       "                                          track_href  \\\n",
       "0  https://api.spotify.com/v1/tracks/0VjIjW4GlUZA...   \n",
       "1  https://api.spotify.com/v1/tracks/7qiZfU4dY1lW...   \n",
       "2  https://api.spotify.com/v1/tracks/2XU0oxnq2qxC...   \n",
       "3  https://api.spotify.com/v1/tracks/7qEHsqek33rT...   \n",
       "4  https://api.spotify.com/v1/tracks/3KkXRkHbMCAR...   \n",
       "\n",
       "                                        analysis_url  duration_ms  \\\n",
       "0  https://api.spotify.com/v1/audio-analysis/0VjI...       200040   \n",
       "1  https://api.spotify.com/v1/audio-analysis/7qiZ...       233713   \n",
       "2  https://api.spotify.com/v1/audio-analysis/2XU0...       209438   \n",
       "3  https://api.spotify.com/v1/audio-analysis/7qEH...       182161   \n",
       "4  https://api.spotify.com/v1/audio-analysis/3KkX...       158040   \n",
       "\n",
       "   time_signature  \n",
       "0               4  \n",
       "1               4  \n",
       "2               4  \n",
       "3               4  \n",
       "4               4  "
      ]
     },
     "execution_count": 18,
     "metadata": {},
     "output_type": "execute_result"
    }
   ],
   "source": [
    "# Getting Audio Features into a dataframe\n",
    "\n",
    "df1=pd.DataFrame(sp.audio_features(songs_id[:100]))  # There is a limit of 100 songs in sp.audio_features\n",
    "df1.head()"
   ]
  },
  {
   "cell_type": "code",
   "execution_count": 19,
   "id": "ea05fd8b",
   "metadata": {
    "scrolled": false
   },
   "outputs": [
    {
     "data": {
      "text/html": [
       "<div>\n",
       "<style scoped>\n",
       "    .dataframe tbody tr th:only-of-type {\n",
       "        vertical-align: middle;\n",
       "    }\n",
       "\n",
       "    .dataframe tbody tr th {\n",
       "        vertical-align: top;\n",
       "    }\n",
       "\n",
       "    .dataframe thead th {\n",
       "        text-align: right;\n",
       "    }\n",
       "</style>\n",
       "<table border=\"1\" class=\"dataframe\">\n",
       "  <thead>\n",
       "    <tr style=\"text-align: right;\">\n",
       "      <th></th>\n",
       "      <th>song_title</th>\n",
       "      <th>songs_id</th>\n",
       "      <th>artist</th>\n",
       "    </tr>\n",
       "  </thead>\n",
       "  <tbody>\n",
       "    <tr>\n",
       "      <th>0</th>\n",
       "      <td>Blinding Lights</td>\n",
       "      <td>0VjIjW4GlUZAMYd2vXMi3b</td>\n",
       "      <td>The Weeknd</td>\n",
       "    </tr>\n",
       "    <tr>\n",
       "      <th>1</th>\n",
       "      <td>Shape of You</td>\n",
       "      <td>7qiZfU4dY1lWllzX7mPBI3</td>\n",
       "      <td>Ed Sheeran</td>\n",
       "    </tr>\n",
       "    <tr>\n",
       "      <th>2</th>\n",
       "      <td>Dance Monkey</td>\n",
       "      <td>2XU0oxnq2qxCpomAAuJY8K</td>\n",
       "      <td>Tones And I</td>\n",
       "    </tr>\n",
       "    <tr>\n",
       "      <th>3</th>\n",
       "      <td>Someone You Loved</td>\n",
       "      <td>7qEHsqek33rTcFNT9PFqLf</td>\n",
       "      <td>Lewis Capaldi</td>\n",
       "    </tr>\n",
       "    <tr>\n",
       "      <th>4</th>\n",
       "      <td>Sunflower - Spider-Man: Into the Spider-Verse</td>\n",
       "      <td>3KkXRkHbMCARz0aVfEt68P</td>\n",
       "      <td>Post Malone</td>\n",
       "    </tr>\n",
       "  </tbody>\n",
       "</table>\n",
       "</div>"
      ],
      "text/plain": [
       "                                      song_title                songs_id  \\\n",
       "0                                Blinding Lights  0VjIjW4GlUZAMYd2vXMi3b   \n",
       "1                                   Shape of You  7qiZfU4dY1lWllzX7mPBI3   \n",
       "2                                   Dance Monkey  2XU0oxnq2qxCpomAAuJY8K   \n",
       "3                              Someone You Loved  7qEHsqek33rTcFNT9PFqLf   \n",
       "4  Sunflower - Spider-Man: Into the Spider-Verse  3KkXRkHbMCARz0aVfEt68P   \n",
       "\n",
       "          artist  \n",
       "0     The Weeknd  \n",
       "1     Ed Sheeran  \n",
       "2    Tones And I  \n",
       "3  Lewis Capaldi  \n",
       "4    Post Malone  "
      ]
     },
     "execution_count": 19,
     "metadata": {},
     "output_type": "execute_result"
    }
   ],
   "source": [
    "# Getting the 3 lists into a dataframe\n",
    "\n",
    "df2 = pd.DataFrame({\"song_title\":songs_name, \"songs_id\": songs_id, \"artist\": artists_name})\n",
    "df2.head()"
   ]
  },
  {
   "cell_type": "code",
   "execution_count": 21,
   "id": "a638ab56",
   "metadata": {
    "scrolled": true
   },
   "outputs": [
    {
     "data": {
      "text/html": [
       "<div>\n",
       "<style scoped>\n",
       "    .dataframe tbody tr th:only-of-type {\n",
       "        vertical-align: middle;\n",
       "    }\n",
       "\n",
       "    .dataframe tbody tr th {\n",
       "        vertical-align: top;\n",
       "    }\n",
       "\n",
       "    .dataframe thead th {\n",
       "        text-align: right;\n",
       "    }\n",
       "</style>\n",
       "<table border=\"1\" class=\"dataframe\">\n",
       "  <thead>\n",
       "    <tr style=\"text-align: right;\">\n",
       "      <th></th>\n",
       "      <th>danceability</th>\n",
       "      <th>energy</th>\n",
       "      <th>key</th>\n",
       "      <th>loudness</th>\n",
       "      <th>mode</th>\n",
       "      <th>speechiness</th>\n",
       "      <th>acousticness</th>\n",
       "      <th>instrumentalness</th>\n",
       "      <th>liveness</th>\n",
       "      <th>valence</th>\n",
       "      <th>...</th>\n",
       "      <th>type</th>\n",
       "      <th>id</th>\n",
       "      <th>uri</th>\n",
       "      <th>track_href</th>\n",
       "      <th>analysis_url</th>\n",
       "      <th>duration_ms</th>\n",
       "      <th>time_signature</th>\n",
       "      <th>song_title</th>\n",
       "      <th>songs_id</th>\n",
       "      <th>artist</th>\n",
       "    </tr>\n",
       "  </thead>\n",
       "  <tbody>\n",
       "    <tr>\n",
       "      <th>0</th>\n",
       "      <td>0.514</td>\n",
       "      <td>0.730</td>\n",
       "      <td>1</td>\n",
       "      <td>-5.934</td>\n",
       "      <td>1</td>\n",
       "      <td>0.0598</td>\n",
       "      <td>0.00146</td>\n",
       "      <td>0.000095</td>\n",
       "      <td>0.0897</td>\n",
       "      <td>0.334</td>\n",
       "      <td>...</td>\n",
       "      <td>audio_features</td>\n",
       "      <td>0VjIjW4GlUZAMYd2vXMi3b</td>\n",
       "      <td>spotify:track:0VjIjW4GlUZAMYd2vXMi3b</td>\n",
       "      <td>https://api.spotify.com/v1/tracks/0VjIjW4GlUZA...</td>\n",
       "      <td>https://api.spotify.com/v1/audio-analysis/0VjI...</td>\n",
       "      <td>200040</td>\n",
       "      <td>4</td>\n",
       "      <td>Blinding Lights</td>\n",
       "      <td>0VjIjW4GlUZAMYd2vXMi3b</td>\n",
       "      <td>The Weeknd</td>\n",
       "    </tr>\n",
       "    <tr>\n",
       "      <th>1</th>\n",
       "      <td>0.825</td>\n",
       "      <td>0.652</td>\n",
       "      <td>1</td>\n",
       "      <td>-3.183</td>\n",
       "      <td>0</td>\n",
       "      <td>0.0802</td>\n",
       "      <td>0.58100</td>\n",
       "      <td>0.000000</td>\n",
       "      <td>0.0931</td>\n",
       "      <td>0.931</td>\n",
       "      <td>...</td>\n",
       "      <td>audio_features</td>\n",
       "      <td>7qiZfU4dY1lWllzX7mPBI3</td>\n",
       "      <td>spotify:track:7qiZfU4dY1lWllzX7mPBI3</td>\n",
       "      <td>https://api.spotify.com/v1/tracks/7qiZfU4dY1lW...</td>\n",
       "      <td>https://api.spotify.com/v1/audio-analysis/7qiZ...</td>\n",
       "      <td>233713</td>\n",
       "      <td>4</td>\n",
       "      <td>Shape of You</td>\n",
       "      <td>7qiZfU4dY1lWllzX7mPBI3</td>\n",
       "      <td>Ed Sheeran</td>\n",
       "    </tr>\n",
       "    <tr>\n",
       "      <th>2</th>\n",
       "      <td>0.824</td>\n",
       "      <td>0.588</td>\n",
       "      <td>6</td>\n",
       "      <td>-6.400</td>\n",
       "      <td>0</td>\n",
       "      <td>0.0924</td>\n",
       "      <td>0.69200</td>\n",
       "      <td>0.000104</td>\n",
       "      <td>0.1490</td>\n",
       "      <td>0.513</td>\n",
       "      <td>...</td>\n",
       "      <td>audio_features</td>\n",
       "      <td>2XU0oxnq2qxCpomAAuJY8K</td>\n",
       "      <td>spotify:track:2XU0oxnq2qxCpomAAuJY8K</td>\n",
       "      <td>https://api.spotify.com/v1/tracks/2XU0oxnq2qxC...</td>\n",
       "      <td>https://api.spotify.com/v1/audio-analysis/2XU0...</td>\n",
       "      <td>209438</td>\n",
       "      <td>4</td>\n",
       "      <td>Dance Monkey</td>\n",
       "      <td>2XU0oxnq2qxCpomAAuJY8K</td>\n",
       "      <td>Tones And I</td>\n",
       "    </tr>\n",
       "    <tr>\n",
       "      <th>3</th>\n",
       "      <td>0.501</td>\n",
       "      <td>0.405</td>\n",
       "      <td>1</td>\n",
       "      <td>-5.679</td>\n",
       "      <td>1</td>\n",
       "      <td>0.0319</td>\n",
       "      <td>0.75100</td>\n",
       "      <td>0.000000</td>\n",
       "      <td>0.1050</td>\n",
       "      <td>0.446</td>\n",
       "      <td>...</td>\n",
       "      <td>audio_features</td>\n",
       "      <td>7qEHsqek33rTcFNT9PFqLf</td>\n",
       "      <td>spotify:track:7qEHsqek33rTcFNT9PFqLf</td>\n",
       "      <td>https://api.spotify.com/v1/tracks/7qEHsqek33rT...</td>\n",
       "      <td>https://api.spotify.com/v1/audio-analysis/7qEH...</td>\n",
       "      <td>182161</td>\n",
       "      <td>4</td>\n",
       "      <td>Someone You Loved</td>\n",
       "      <td>7qEHsqek33rTcFNT9PFqLf</td>\n",
       "      <td>Lewis Capaldi</td>\n",
       "    </tr>\n",
       "    <tr>\n",
       "      <th>4</th>\n",
       "      <td>0.760</td>\n",
       "      <td>0.479</td>\n",
       "      <td>2</td>\n",
       "      <td>-5.574</td>\n",
       "      <td>1</td>\n",
       "      <td>0.0466</td>\n",
       "      <td>0.55600</td>\n",
       "      <td>0.000000</td>\n",
       "      <td>0.0703</td>\n",
       "      <td>0.913</td>\n",
       "      <td>...</td>\n",
       "      <td>audio_features</td>\n",
       "      <td>3KkXRkHbMCARz0aVfEt68P</td>\n",
       "      <td>spotify:track:3KkXRkHbMCARz0aVfEt68P</td>\n",
       "      <td>https://api.spotify.com/v1/tracks/3KkXRkHbMCAR...</td>\n",
       "      <td>https://api.spotify.com/v1/audio-analysis/3KkX...</td>\n",
       "      <td>158040</td>\n",
       "      <td>4</td>\n",
       "      <td>Sunflower - Spider-Man: Into the Spider-Verse</td>\n",
       "      <td>3KkXRkHbMCARz0aVfEt68P</td>\n",
       "      <td>Post Malone</td>\n",
       "    </tr>\n",
       "  </tbody>\n",
       "</table>\n",
       "<p>5 rows × 21 columns</p>\n",
       "</div>"
      ],
      "text/plain": [
       "   danceability  energy  key  loudness  mode  speechiness  acousticness  \\\n",
       "0         0.514   0.730    1    -5.934     1       0.0598       0.00146   \n",
       "1         0.825   0.652    1    -3.183     0       0.0802       0.58100   \n",
       "2         0.824   0.588    6    -6.400     0       0.0924       0.69200   \n",
       "3         0.501   0.405    1    -5.679     1       0.0319       0.75100   \n",
       "4         0.760   0.479    2    -5.574     1       0.0466       0.55600   \n",
       "\n",
       "   instrumentalness  liveness  valence  ...            type  \\\n",
       "0          0.000095    0.0897    0.334  ...  audio_features   \n",
       "1          0.000000    0.0931    0.931  ...  audio_features   \n",
       "2          0.000104    0.1490    0.513  ...  audio_features   \n",
       "3          0.000000    0.1050    0.446  ...  audio_features   \n",
       "4          0.000000    0.0703    0.913  ...  audio_features   \n",
       "\n",
       "                       id                                   uri  \\\n",
       "0  0VjIjW4GlUZAMYd2vXMi3b  spotify:track:0VjIjW4GlUZAMYd2vXMi3b   \n",
       "1  7qiZfU4dY1lWllzX7mPBI3  spotify:track:7qiZfU4dY1lWllzX7mPBI3   \n",
       "2  2XU0oxnq2qxCpomAAuJY8K  spotify:track:2XU0oxnq2qxCpomAAuJY8K   \n",
       "3  7qEHsqek33rTcFNT9PFqLf  spotify:track:7qEHsqek33rTcFNT9PFqLf   \n",
       "4  3KkXRkHbMCARz0aVfEt68P  spotify:track:3KkXRkHbMCARz0aVfEt68P   \n",
       "\n",
       "                                          track_href  \\\n",
       "0  https://api.spotify.com/v1/tracks/0VjIjW4GlUZA...   \n",
       "1  https://api.spotify.com/v1/tracks/7qiZfU4dY1lW...   \n",
       "2  https://api.spotify.com/v1/tracks/2XU0oxnq2qxC...   \n",
       "3  https://api.spotify.com/v1/tracks/7qEHsqek33rT...   \n",
       "4  https://api.spotify.com/v1/tracks/3KkXRkHbMCAR...   \n",
       "\n",
       "                                        analysis_url duration_ms  \\\n",
       "0  https://api.spotify.com/v1/audio-analysis/0VjI...      200040   \n",
       "1  https://api.spotify.com/v1/audio-analysis/7qiZ...      233713   \n",
       "2  https://api.spotify.com/v1/audio-analysis/2XU0...      209438   \n",
       "3  https://api.spotify.com/v1/audio-analysis/7qEH...      182161   \n",
       "4  https://api.spotify.com/v1/audio-analysis/3KkX...      158040   \n",
       "\n",
       "   time_signature                                     song_title  \\\n",
       "0               4                                Blinding Lights   \n",
       "1               4                                   Shape of You   \n",
       "2               4                                   Dance Monkey   \n",
       "3               4                              Someone You Loved   \n",
       "4               4  Sunflower - Spider-Man: Into the Spider-Verse   \n",
       "\n",
       "                 songs_id         artist  \n",
       "0  0VjIjW4GlUZAMYd2vXMi3b     The Weeknd  \n",
       "1  7qiZfU4dY1lWllzX7mPBI3     Ed Sheeran  \n",
       "2  2XU0oxnq2qxCpomAAuJY8K    Tones And I  \n",
       "3  7qEHsqek33rTcFNT9PFqLf  Lewis Capaldi  \n",
       "4  3KkXRkHbMCARz0aVfEt68P    Post Malone  \n",
       "\n",
       "[5 rows x 21 columns]"
      ]
     },
     "execution_count": 21,
     "metadata": {},
     "output_type": "execute_result"
    }
   ],
   "source": [
    "# Getting artist name, song titles, song id, and audio features into 1 single dataframe.\n",
    "\n",
    "df3 = pd.concat([df1, df2], axis=1)\n",
    "df3.head(5)"
   ]
  },
  {
   "cell_type": "code",
   "execution_count": 22,
   "id": "0b02a6d5",
   "metadata": {},
   "outputs": [
    {
     "data": {
      "text/plain": [
       "Index(['danceability', 'energy', 'key', 'loudness', 'mode', 'speechiness',\n",
       "       'acousticness', 'instrumentalness', 'liveness', 'valence', 'tempo',\n",
       "       'type', 'id', 'uri', 'track_href', 'analysis_url', 'duration_ms',\n",
       "       'time_signature', 'song_title', 'songs_id', 'artist'],\n",
       "      dtype='object')"
      ]
     },
     "execution_count": 22,
     "metadata": {},
     "output_type": "execute_result"
    }
   ],
   "source": [
    "df3.columns"
   ]
  },
  {
   "cell_type": "code",
   "execution_count": null,
   "id": "2de7a3c6",
   "metadata": {},
   "outputs": [],
   "source": [
    "# saving df to a csv file\n",
    "\n",
    "df3.to_csv('audio_features_spotify_playlist.csv')"
   ]
  },
  {
   "cell_type": "markdown",
   "id": "b1d8be5f",
   "metadata": {},
   "source": [
    "## Playlist \"Playlist of the decade\"\n",
    "\n",
    "https://open.spotify.com/playlist/7KGPsYfZic7mD4EZtnVrJf"
   ]
  },
  {
   "cell_type": "code",
   "execution_count": 23,
   "id": "940de4fa",
   "metadata": {},
   "outputs": [],
   "source": [
    "playlist2 = sp.user_playlist_tracks(\"spotify\", \"7KGPsYfZic7mD4EZtnVrJf\") \n",
    "#playlist2"
   ]
  },
  {
   "cell_type": "code",
   "execution_count": null,
   "id": "8d2064a3",
   "metadata": {},
   "outputs": [],
   "source": [
    "#pprint.pprint(playlist2)"
   ]
  },
  {
   "cell_type": "code",
   "execution_count": 24,
   "id": "3061bb5d",
   "metadata": {},
   "outputs": [
    {
     "data": {
      "text/plain": [
       "65"
      ]
     },
     "execution_count": 24,
     "metadata": {},
     "output_type": "execute_result"
    }
   ],
   "source": [
    "playlist2[\"total\"]\n",
    "\n",
    "# 65 total songs"
   ]
  },
  {
   "cell_type": "code",
   "execution_count": 25,
   "id": "d8278865",
   "metadata": {},
   "outputs": [
    {
     "data": {
      "text/plain": [
       "dict_keys(['href', 'items', 'limit', 'next', 'offset', 'previous', 'total'])"
      ]
     },
     "execution_count": 25,
     "metadata": {},
     "output_type": "execute_result"
    }
   ],
   "source": [
    "playlist2.keys()"
   ]
  },
  {
   "cell_type": "code",
   "execution_count": 26,
   "id": "638a4f37",
   "metadata": {},
   "outputs": [
    {
     "data": {
      "text/plain": [
       "dict_keys(['added_at', 'added_by', 'is_local', 'primary_color', 'track', 'video_thumbnail'])"
      ]
     },
     "execution_count": 26,
     "metadata": {},
     "output_type": "execute_result"
    }
   ],
   "source": [
    "playlist2[\"items\"][0].keys()"
   ]
  },
  {
   "cell_type": "code",
   "execution_count": 27,
   "id": "ea2b24ec",
   "metadata": {},
   "outputs": [],
   "source": [
    "# Getting songs information (album...artist...etc) dictionary\n",
    "\n",
    "songs_dic2 = get_songs(\"spotify\", \"7KGPsYfZic7mD4EZtnVrJf\")\n",
    "#songs_dic2"
   ]
  },
  {
   "cell_type": "code",
   "execution_count": 28,
   "id": "c017631f",
   "metadata": {},
   "outputs": [],
   "source": [
    "# Getting a LIST of all the song names and song id's from \"Playlist of the decade\"\n",
    "songs_id2 = []\n",
    "songs_name2 = []\n",
    "\n",
    "for i in range(0, len(songs_dic2)):\n",
    "    song_title = songs_dic2[i][\"track\"][\"name\"]\n",
    "    id_song = songs_dic2[i][\"track\"][\"id\"]\n",
    "    songs_name2.append(song_title)\n",
    "    songs_id2.append(id_song)"
   ]
  },
  {
   "cell_type": "code",
   "execution_count": 29,
   "id": "c8ff55a4",
   "metadata": {},
   "outputs": [
    {
     "data": {
      "text/plain": [
       "65"
      ]
     },
     "execution_count": 29,
     "metadata": {},
     "output_type": "execute_result"
    }
   ],
   "source": [
    "len(songs_name2)"
   ]
  },
  {
   "cell_type": "code",
   "execution_count": 31,
   "id": "26ce8a6c",
   "metadata": {},
   "outputs": [],
   "source": [
    "# Getting a LIST of all artists name and artist ID's.\n",
    "\n",
    "artist_2=[]\n",
    "artists_name2 = []\n",
    "\n",
    "\n",
    "for i in range (0, len(songs_dic2)):\n",
    "    artist_2.append(songs_dic2[i]['track']['artists'])\n",
    "    \n",
    "for i in range (len(artist_2)):\n",
    "    artist_name_= artist_2[i][0]['name']\n",
    "    \n",
    "    artists_name2.append(artist_name_)"
   ]
  },
  {
   "cell_type": "code",
   "execution_count": 32,
   "id": "a7062920",
   "metadata": {},
   "outputs": [
    {
     "data": {
      "text/plain": [
       "65"
      ]
     },
     "execution_count": 32,
     "metadata": {},
     "output_type": "execute_result"
    }
   ],
   "source": [
    "len(artists_name2)"
   ]
  },
  {
   "cell_type": "code",
   "execution_count": 33,
   "id": "c4ba72e9",
   "metadata": {
    "scrolled": true
   },
   "outputs": [
    {
     "data": {
      "text/html": [
       "<div>\n",
       "<style scoped>\n",
       "    .dataframe tbody tr th:only-of-type {\n",
       "        vertical-align: middle;\n",
       "    }\n",
       "\n",
       "    .dataframe tbody tr th {\n",
       "        vertical-align: top;\n",
       "    }\n",
       "\n",
       "    .dataframe thead th {\n",
       "        text-align: right;\n",
       "    }\n",
       "</style>\n",
       "<table border=\"1\" class=\"dataframe\">\n",
       "  <thead>\n",
       "    <tr style=\"text-align: right;\">\n",
       "      <th></th>\n",
       "      <th>danceability</th>\n",
       "      <th>energy</th>\n",
       "      <th>key</th>\n",
       "      <th>loudness</th>\n",
       "      <th>mode</th>\n",
       "      <th>speechiness</th>\n",
       "      <th>acousticness</th>\n",
       "      <th>instrumentalness</th>\n",
       "      <th>liveness</th>\n",
       "      <th>valence</th>\n",
       "      <th>tempo</th>\n",
       "      <th>type</th>\n",
       "      <th>id</th>\n",
       "      <th>uri</th>\n",
       "      <th>track_href</th>\n",
       "      <th>analysis_url</th>\n",
       "      <th>duration_ms</th>\n",
       "      <th>time_signature</th>\n",
       "    </tr>\n",
       "  </thead>\n",
       "  <tbody>\n",
       "    <tr>\n",
       "      <th>0</th>\n",
       "      <td>0.587</td>\n",
       "      <td>0.299</td>\n",
       "      <td>8</td>\n",
       "      <td>-7.365</td>\n",
       "      <td>1</td>\n",
       "      <td>0.0263</td>\n",
       "      <td>0.779</td>\n",
       "      <td>0.0</td>\n",
       "      <td>0.1230</td>\n",
       "      <td>0.356</td>\n",
       "      <td>94.992</td>\n",
       "      <td>audio_features</td>\n",
       "      <td>1bhUWB0zJMIKr9yVPrkEuI</td>\n",
       "      <td>spotify:track:1bhUWB0zJMIKr9yVPrkEuI</td>\n",
       "      <td>https://api.spotify.com/v1/tracks/1bhUWB0zJMIK...</td>\n",
       "      <td>https://api.spotify.com/v1/audio-analysis/1bhU...</td>\n",
       "      <td>259550</td>\n",
       "      <td>3</td>\n",
       "    </tr>\n",
       "    <tr>\n",
       "      <th>1</th>\n",
       "      <td>0.501</td>\n",
       "      <td>0.405</td>\n",
       "      <td>1</td>\n",
       "      <td>-5.679</td>\n",
       "      <td>1</td>\n",
       "      <td>0.0319</td>\n",
       "      <td>0.751</td>\n",
       "      <td>0.0</td>\n",
       "      <td>0.1050</td>\n",
       "      <td>0.446</td>\n",
       "      <td>109.891</td>\n",
       "      <td>audio_features</td>\n",
       "      <td>7qEHsqek33rTcFNT9PFqLf</td>\n",
       "      <td>spotify:track:7qEHsqek33rTcFNT9PFqLf</td>\n",
       "      <td>https://api.spotify.com/v1/tracks/7qEHsqek33rT...</td>\n",
       "      <td>https://api.spotify.com/v1/audio-analysis/7qEH...</td>\n",
       "      <td>182161</td>\n",
       "      <td>4</td>\n",
       "    </tr>\n",
       "    <tr>\n",
       "      <th>2</th>\n",
       "      <td>0.554</td>\n",
       "      <td>0.321</td>\n",
       "      <td>9</td>\n",
       "      <td>-8.251</td>\n",
       "      <td>1</td>\n",
       "      <td>0.0280</td>\n",
       "      <td>0.893</td>\n",
       "      <td>0.0</td>\n",
       "      <td>0.0996</td>\n",
       "      <td>0.288</td>\n",
       "      <td>135.047</td>\n",
       "      <td>audio_features</td>\n",
       "      <td>6QPKYGnAW9QozVz2dSWqRg</td>\n",
       "      <td>spotify:track:6QPKYGnAW9QozVz2dSWqRg</td>\n",
       "      <td>https://api.spotify.com/v1/tracks/6QPKYGnAW9Qo...</td>\n",
       "      <td>https://api.spotify.com/v1/audio-analysis/6QPK...</td>\n",
       "      <td>285240</td>\n",
       "      <td>4</td>\n",
       "    </tr>\n",
       "    <tr>\n",
       "      <th>3</th>\n",
       "      <td>0.558</td>\n",
       "      <td>0.451</td>\n",
       "      <td>9</td>\n",
       "      <td>-6.163</td>\n",
       "      <td>1</td>\n",
       "      <td>0.0388</td>\n",
       "      <td>0.292</td>\n",
       "      <td>0.0</td>\n",
       "      <td>0.1010</td>\n",
       "      <td>0.238</td>\n",
       "      <td>150.008</td>\n",
       "      <td>audio_features</td>\n",
       "      <td>76eBb8heDKtUg68WiKX9j1</td>\n",
       "      <td>spotify:track:76eBb8heDKtUg68WiKX9j1</td>\n",
       "      <td>https://api.spotify.com/v1/tracks/76eBb8heDKtU...</td>\n",
       "      <td>https://api.spotify.com/v1/audio-analysis/76eB...</td>\n",
       "      <td>265382</td>\n",
       "      <td>4</td>\n",
       "    </tr>\n",
       "    <tr>\n",
       "      <th>4</th>\n",
       "      <td>0.302</td>\n",
       "      <td>0.655</td>\n",
       "      <td>9</td>\n",
       "      <td>-5.325</td>\n",
       "      <td>1</td>\n",
       "      <td>0.0350</td>\n",
       "      <td>0.166</td>\n",
       "      <td>0.0</td>\n",
       "      <td>0.1170</td>\n",
       "      <td>0.271</td>\n",
       "      <td>104.918</td>\n",
       "      <td>audio_features</td>\n",
       "      <td>65QUgRcwZuYhJjgCQKeAqG</td>\n",
       "      <td>spotify:track:65QUgRcwZuYhJjgCQKeAqG</td>\n",
       "      <td>https://api.spotify.com/v1/tracks/65QUgRcwZuYh...</td>\n",
       "      <td>https://api.spotify.com/v1/audio-analysis/65QU...</td>\n",
       "      <td>251280</td>\n",
       "      <td>3</td>\n",
       "    </tr>\n",
       "  </tbody>\n",
       "</table>\n",
       "</div>"
      ],
      "text/plain": [
       "   danceability  energy  key  loudness  mode  speechiness  acousticness  \\\n",
       "0         0.587   0.299    8    -7.365     1       0.0263         0.779   \n",
       "1         0.501   0.405    1    -5.679     1       0.0319         0.751   \n",
       "2         0.554   0.321    9    -8.251     1       0.0280         0.893   \n",
       "3         0.558   0.451    9    -6.163     1       0.0388         0.292   \n",
       "4         0.302   0.655    9    -5.325     1       0.0350         0.166   \n",
       "\n",
       "   instrumentalness  liveness  valence    tempo            type  \\\n",
       "0               0.0    0.1230    0.356   94.992  audio_features   \n",
       "1               0.0    0.1050    0.446  109.891  audio_features   \n",
       "2               0.0    0.0996    0.288  135.047  audio_features   \n",
       "3               0.0    0.1010    0.238  150.008  audio_features   \n",
       "4               0.0    0.1170    0.271  104.918  audio_features   \n",
       "\n",
       "                       id                                   uri  \\\n",
       "0  1bhUWB0zJMIKr9yVPrkEuI  spotify:track:1bhUWB0zJMIKr9yVPrkEuI   \n",
       "1  7qEHsqek33rTcFNT9PFqLf  spotify:track:7qEHsqek33rTcFNT9PFqLf   \n",
       "2  6QPKYGnAW9QozVz2dSWqRg  spotify:track:6QPKYGnAW9QozVz2dSWqRg   \n",
       "3  76eBb8heDKtUg68WiKX9j1  spotify:track:76eBb8heDKtUg68WiKX9j1   \n",
       "4  65QUgRcwZuYhJjgCQKeAqG  spotify:track:65QUgRcwZuYhJjgCQKeAqG   \n",
       "\n",
       "                                          track_href  \\\n",
       "0  https://api.spotify.com/v1/tracks/1bhUWB0zJMIK...   \n",
       "1  https://api.spotify.com/v1/tracks/7qEHsqek33rT...   \n",
       "2  https://api.spotify.com/v1/tracks/6QPKYGnAW9Qo...   \n",
       "3  https://api.spotify.com/v1/tracks/76eBb8heDKtU...   \n",
       "4  https://api.spotify.com/v1/tracks/65QUgRcwZuYh...   \n",
       "\n",
       "                                        analysis_url  duration_ms  \\\n",
       "0  https://api.spotify.com/v1/audio-analysis/1bhU...       259550   \n",
       "1  https://api.spotify.com/v1/audio-analysis/7qEH...       182161   \n",
       "2  https://api.spotify.com/v1/audio-analysis/6QPK...       285240   \n",
       "3  https://api.spotify.com/v1/audio-analysis/76eB...       265382   \n",
       "4  https://api.spotify.com/v1/audio-analysis/65QU...       251280   \n",
       "\n",
       "   time_signature  \n",
       "0               3  \n",
       "1               4  \n",
       "2               4  \n",
       "3               4  \n",
       "4               3  "
      ]
     },
     "execution_count": 33,
     "metadata": {},
     "output_type": "execute_result"
    }
   ],
   "source": [
    "# Getting audio features into a dataframe\n",
    "\n",
    "df_1=pd.DataFrame(sp.audio_features(songs_id2[:100]))\n",
    "df_1.head()"
   ]
  },
  {
   "cell_type": "code",
   "execution_count": 34,
   "id": "9e5b8164",
   "metadata": {},
   "outputs": [
    {
     "data": {
      "text/html": [
       "<div>\n",
       "<style scoped>\n",
       "    .dataframe tbody tr th:only-of-type {\n",
       "        vertical-align: middle;\n",
       "    }\n",
       "\n",
       "    .dataframe tbody tr th {\n",
       "        vertical-align: top;\n",
       "    }\n",
       "\n",
       "    .dataframe thead th {\n",
       "        text-align: right;\n",
       "    }\n",
       "</style>\n",
       "<table border=\"1\" class=\"dataframe\">\n",
       "  <thead>\n",
       "    <tr style=\"text-align: right;\">\n",
       "      <th></th>\n",
       "      <th>song_title</th>\n",
       "      <th>songs_id</th>\n",
       "      <th>artist</th>\n",
       "    </tr>\n",
       "  </thead>\n",
       "  <tbody>\n",
       "    <tr>\n",
       "      <th>0</th>\n",
       "      <td>Perfect Duet (Ed Sheeran &amp; Beyoncé)</td>\n",
       "      <td>1bhUWB0zJMIKr9yVPrkEuI</td>\n",
       "      <td>Ed Sheeran</td>\n",
       "    </tr>\n",
       "    <tr>\n",
       "      <th>1</th>\n",
       "      <td>Someone You Loved</td>\n",
       "      <td>7qEHsqek33rTcFNT9PFqLf</td>\n",
       "      <td>Lewis Capaldi</td>\n",
       "    </tr>\n",
       "    <tr>\n",
       "      <th>2</th>\n",
       "      <td>Someone Like You</td>\n",
       "      <td>6QPKYGnAW9QozVz2dSWqRg</td>\n",
       "      <td>Adele</td>\n",
       "    </tr>\n",
       "    <tr>\n",
       "      <th>3</th>\n",
       "      <td>Take Me Home</td>\n",
       "      <td>76eBb8heDKtUg68WiKX9j1</td>\n",
       "      <td>Jess Glynne</td>\n",
       "    </tr>\n",
       "    <tr>\n",
       "      <th>4</th>\n",
       "      <td>The Writer</td>\n",
       "      <td>65QUgRcwZuYhJjgCQKeAqG</td>\n",
       "      <td>Ellie Goulding</td>\n",
       "    </tr>\n",
       "  </tbody>\n",
       "</table>\n",
       "</div>"
      ],
      "text/plain": [
       "                            song_title                songs_id          artist\n",
       "0  Perfect Duet (Ed Sheeran & Beyoncé)  1bhUWB0zJMIKr9yVPrkEuI      Ed Sheeran\n",
       "1                    Someone You Loved  7qEHsqek33rTcFNT9PFqLf   Lewis Capaldi\n",
       "2                     Someone Like You  6QPKYGnAW9QozVz2dSWqRg           Adele\n",
       "3                         Take Me Home  76eBb8heDKtUg68WiKX9j1     Jess Glynne\n",
       "4                           The Writer  65QUgRcwZuYhJjgCQKeAqG  Ellie Goulding"
      ]
     },
     "execution_count": 34,
     "metadata": {},
     "output_type": "execute_result"
    }
   ],
   "source": [
    "# Getting the 3 lists from second playlist into a dataframe\n",
    "\n",
    "df_2 = pd.DataFrame({\"song_title\":songs_name2, \"songs_id\": songs_id2, \"artist\": artists_name2})\n",
    "df_2.head(5)"
   ]
  },
  {
   "cell_type": "code",
   "execution_count": 35,
   "id": "dce2a04d",
   "metadata": {
    "scrolled": true
   },
   "outputs": [
    {
     "data": {
      "text/html": [
       "<div>\n",
       "<style scoped>\n",
       "    .dataframe tbody tr th:only-of-type {\n",
       "        vertical-align: middle;\n",
       "    }\n",
       "\n",
       "    .dataframe tbody tr th {\n",
       "        vertical-align: top;\n",
       "    }\n",
       "\n",
       "    .dataframe thead th {\n",
       "        text-align: right;\n",
       "    }\n",
       "</style>\n",
       "<table border=\"1\" class=\"dataframe\">\n",
       "  <thead>\n",
       "    <tr style=\"text-align: right;\">\n",
       "      <th></th>\n",
       "      <th>danceability</th>\n",
       "      <th>energy</th>\n",
       "      <th>key</th>\n",
       "      <th>loudness</th>\n",
       "      <th>mode</th>\n",
       "      <th>speechiness</th>\n",
       "      <th>acousticness</th>\n",
       "      <th>instrumentalness</th>\n",
       "      <th>liveness</th>\n",
       "      <th>valence</th>\n",
       "      <th>...</th>\n",
       "      <th>type</th>\n",
       "      <th>id</th>\n",
       "      <th>uri</th>\n",
       "      <th>track_href</th>\n",
       "      <th>analysis_url</th>\n",
       "      <th>duration_ms</th>\n",
       "      <th>time_signature</th>\n",
       "      <th>song_title</th>\n",
       "      <th>songs_id</th>\n",
       "      <th>artist</th>\n",
       "    </tr>\n",
       "  </thead>\n",
       "  <tbody>\n",
       "    <tr>\n",
       "      <th>0</th>\n",
       "      <td>0.587</td>\n",
       "      <td>0.299</td>\n",
       "      <td>8</td>\n",
       "      <td>-7.365</td>\n",
       "      <td>1</td>\n",
       "      <td>0.0263</td>\n",
       "      <td>0.779</td>\n",
       "      <td>0.0</td>\n",
       "      <td>0.1230</td>\n",
       "      <td>0.356</td>\n",
       "      <td>...</td>\n",
       "      <td>audio_features</td>\n",
       "      <td>1bhUWB0zJMIKr9yVPrkEuI</td>\n",
       "      <td>spotify:track:1bhUWB0zJMIKr9yVPrkEuI</td>\n",
       "      <td>https://api.spotify.com/v1/tracks/1bhUWB0zJMIK...</td>\n",
       "      <td>https://api.spotify.com/v1/audio-analysis/1bhU...</td>\n",
       "      <td>259550</td>\n",
       "      <td>3</td>\n",
       "      <td>Perfect Duet (Ed Sheeran &amp; Beyoncé)</td>\n",
       "      <td>1bhUWB0zJMIKr9yVPrkEuI</td>\n",
       "      <td>Ed Sheeran</td>\n",
       "    </tr>\n",
       "    <tr>\n",
       "      <th>1</th>\n",
       "      <td>0.501</td>\n",
       "      <td>0.405</td>\n",
       "      <td>1</td>\n",
       "      <td>-5.679</td>\n",
       "      <td>1</td>\n",
       "      <td>0.0319</td>\n",
       "      <td>0.751</td>\n",
       "      <td>0.0</td>\n",
       "      <td>0.1050</td>\n",
       "      <td>0.446</td>\n",
       "      <td>...</td>\n",
       "      <td>audio_features</td>\n",
       "      <td>7qEHsqek33rTcFNT9PFqLf</td>\n",
       "      <td>spotify:track:7qEHsqek33rTcFNT9PFqLf</td>\n",
       "      <td>https://api.spotify.com/v1/tracks/7qEHsqek33rT...</td>\n",
       "      <td>https://api.spotify.com/v1/audio-analysis/7qEH...</td>\n",
       "      <td>182161</td>\n",
       "      <td>4</td>\n",
       "      <td>Someone You Loved</td>\n",
       "      <td>7qEHsqek33rTcFNT9PFqLf</td>\n",
       "      <td>Lewis Capaldi</td>\n",
       "    </tr>\n",
       "    <tr>\n",
       "      <th>2</th>\n",
       "      <td>0.554</td>\n",
       "      <td>0.321</td>\n",
       "      <td>9</td>\n",
       "      <td>-8.251</td>\n",
       "      <td>1</td>\n",
       "      <td>0.0280</td>\n",
       "      <td>0.893</td>\n",
       "      <td>0.0</td>\n",
       "      <td>0.0996</td>\n",
       "      <td>0.288</td>\n",
       "      <td>...</td>\n",
       "      <td>audio_features</td>\n",
       "      <td>6QPKYGnAW9QozVz2dSWqRg</td>\n",
       "      <td>spotify:track:6QPKYGnAW9QozVz2dSWqRg</td>\n",
       "      <td>https://api.spotify.com/v1/tracks/6QPKYGnAW9Qo...</td>\n",
       "      <td>https://api.spotify.com/v1/audio-analysis/6QPK...</td>\n",
       "      <td>285240</td>\n",
       "      <td>4</td>\n",
       "      <td>Someone Like You</td>\n",
       "      <td>6QPKYGnAW9QozVz2dSWqRg</td>\n",
       "      <td>Adele</td>\n",
       "    </tr>\n",
       "    <tr>\n",
       "      <th>3</th>\n",
       "      <td>0.558</td>\n",
       "      <td>0.451</td>\n",
       "      <td>9</td>\n",
       "      <td>-6.163</td>\n",
       "      <td>1</td>\n",
       "      <td>0.0388</td>\n",
       "      <td>0.292</td>\n",
       "      <td>0.0</td>\n",
       "      <td>0.1010</td>\n",
       "      <td>0.238</td>\n",
       "      <td>...</td>\n",
       "      <td>audio_features</td>\n",
       "      <td>76eBb8heDKtUg68WiKX9j1</td>\n",
       "      <td>spotify:track:76eBb8heDKtUg68WiKX9j1</td>\n",
       "      <td>https://api.spotify.com/v1/tracks/76eBb8heDKtU...</td>\n",
       "      <td>https://api.spotify.com/v1/audio-analysis/76eB...</td>\n",
       "      <td>265382</td>\n",
       "      <td>4</td>\n",
       "      <td>Take Me Home</td>\n",
       "      <td>76eBb8heDKtUg68WiKX9j1</td>\n",
       "      <td>Jess Glynne</td>\n",
       "    </tr>\n",
       "    <tr>\n",
       "      <th>4</th>\n",
       "      <td>0.302</td>\n",
       "      <td>0.655</td>\n",
       "      <td>9</td>\n",
       "      <td>-5.325</td>\n",
       "      <td>1</td>\n",
       "      <td>0.0350</td>\n",
       "      <td>0.166</td>\n",
       "      <td>0.0</td>\n",
       "      <td>0.1170</td>\n",
       "      <td>0.271</td>\n",
       "      <td>...</td>\n",
       "      <td>audio_features</td>\n",
       "      <td>65QUgRcwZuYhJjgCQKeAqG</td>\n",
       "      <td>spotify:track:65QUgRcwZuYhJjgCQKeAqG</td>\n",
       "      <td>https://api.spotify.com/v1/tracks/65QUgRcwZuYh...</td>\n",
       "      <td>https://api.spotify.com/v1/audio-analysis/65QU...</td>\n",
       "      <td>251280</td>\n",
       "      <td>3</td>\n",
       "      <td>The Writer</td>\n",
       "      <td>65QUgRcwZuYhJjgCQKeAqG</td>\n",
       "      <td>Ellie Goulding</td>\n",
       "    </tr>\n",
       "  </tbody>\n",
       "</table>\n",
       "<p>5 rows × 21 columns</p>\n",
       "</div>"
      ],
      "text/plain": [
       "   danceability  energy  key  loudness  mode  speechiness  acousticness  \\\n",
       "0         0.587   0.299    8    -7.365     1       0.0263         0.779   \n",
       "1         0.501   0.405    1    -5.679     1       0.0319         0.751   \n",
       "2         0.554   0.321    9    -8.251     1       0.0280         0.893   \n",
       "3         0.558   0.451    9    -6.163     1       0.0388         0.292   \n",
       "4         0.302   0.655    9    -5.325     1       0.0350         0.166   \n",
       "\n",
       "   instrumentalness  liveness  valence  ...            type  \\\n",
       "0               0.0    0.1230    0.356  ...  audio_features   \n",
       "1               0.0    0.1050    0.446  ...  audio_features   \n",
       "2               0.0    0.0996    0.288  ...  audio_features   \n",
       "3               0.0    0.1010    0.238  ...  audio_features   \n",
       "4               0.0    0.1170    0.271  ...  audio_features   \n",
       "\n",
       "                       id                                   uri  \\\n",
       "0  1bhUWB0zJMIKr9yVPrkEuI  spotify:track:1bhUWB0zJMIKr9yVPrkEuI   \n",
       "1  7qEHsqek33rTcFNT9PFqLf  spotify:track:7qEHsqek33rTcFNT9PFqLf   \n",
       "2  6QPKYGnAW9QozVz2dSWqRg  spotify:track:6QPKYGnAW9QozVz2dSWqRg   \n",
       "3  76eBb8heDKtUg68WiKX9j1  spotify:track:76eBb8heDKtUg68WiKX9j1   \n",
       "4  65QUgRcwZuYhJjgCQKeAqG  spotify:track:65QUgRcwZuYhJjgCQKeAqG   \n",
       "\n",
       "                                          track_href  \\\n",
       "0  https://api.spotify.com/v1/tracks/1bhUWB0zJMIK...   \n",
       "1  https://api.spotify.com/v1/tracks/7qEHsqek33rT...   \n",
       "2  https://api.spotify.com/v1/tracks/6QPKYGnAW9Qo...   \n",
       "3  https://api.spotify.com/v1/tracks/76eBb8heDKtU...   \n",
       "4  https://api.spotify.com/v1/tracks/65QUgRcwZuYh...   \n",
       "\n",
       "                                        analysis_url duration_ms  \\\n",
       "0  https://api.spotify.com/v1/audio-analysis/1bhU...      259550   \n",
       "1  https://api.spotify.com/v1/audio-analysis/7qEH...      182161   \n",
       "2  https://api.spotify.com/v1/audio-analysis/6QPK...      285240   \n",
       "3  https://api.spotify.com/v1/audio-analysis/76eB...      265382   \n",
       "4  https://api.spotify.com/v1/audio-analysis/65QU...      251280   \n",
       "\n",
       "   time_signature                           song_title  \\\n",
       "0               3  Perfect Duet (Ed Sheeran & Beyoncé)   \n",
       "1               4                    Someone You Loved   \n",
       "2               4                     Someone Like You   \n",
       "3               4                         Take Me Home   \n",
       "4               3                           The Writer   \n",
       "\n",
       "                 songs_id          artist  \n",
       "0  1bhUWB0zJMIKr9yVPrkEuI      Ed Sheeran  \n",
       "1  7qEHsqek33rTcFNT9PFqLf   Lewis Capaldi  \n",
       "2  6QPKYGnAW9QozVz2dSWqRg           Adele  \n",
       "3  76eBb8heDKtUg68WiKX9j1     Jess Glynne  \n",
       "4  65QUgRcwZuYhJjgCQKeAqG  Ellie Goulding  \n",
       "\n",
       "[5 rows x 21 columns]"
      ]
     },
     "execution_count": 35,
     "metadata": {},
     "output_type": "execute_result"
    }
   ],
   "source": [
    "# Getting artist name, song titles, song id, and audio features into 1 single dataframe.\n",
    "\n",
    "df_3 = pd.concat([df_1, df_2], axis=1)\n",
    "df_3.head(5)"
   ]
  },
  {
   "cell_type": "code",
   "execution_count": 36,
   "id": "4e3d33f5",
   "metadata": {},
   "outputs": [
    {
     "data": {
      "text/plain": [
       "(100, 21)"
      ]
     },
     "execution_count": 36,
     "metadata": {},
     "output_type": "execute_result"
    }
   ],
   "source": [
    "df3.shape"
   ]
  },
  {
   "cell_type": "code",
   "execution_count": 38,
   "id": "ffcaa9c1",
   "metadata": {},
   "outputs": [
    {
     "data": {
      "text/html": [
       "<div>\n",
       "<style scoped>\n",
       "    .dataframe tbody tr th:only-of-type {\n",
       "        vertical-align: middle;\n",
       "    }\n",
       "\n",
       "    .dataframe tbody tr th {\n",
       "        vertical-align: top;\n",
       "    }\n",
       "\n",
       "    .dataframe thead th {\n",
       "        text-align: right;\n",
       "    }\n",
       "</style>\n",
       "<table border=\"1\" class=\"dataframe\">\n",
       "  <thead>\n",
       "    <tr style=\"text-align: right;\">\n",
       "      <th></th>\n",
       "      <th>danceability</th>\n",
       "      <th>energy</th>\n",
       "      <th>key</th>\n",
       "      <th>loudness</th>\n",
       "      <th>mode</th>\n",
       "      <th>speechiness</th>\n",
       "      <th>acousticness</th>\n",
       "      <th>instrumentalness</th>\n",
       "      <th>liveness</th>\n",
       "      <th>valence</th>\n",
       "      <th>...</th>\n",
       "      <th>type</th>\n",
       "      <th>id</th>\n",
       "      <th>uri</th>\n",
       "      <th>track_href</th>\n",
       "      <th>analysis_url</th>\n",
       "      <th>duration_ms</th>\n",
       "      <th>time_signature</th>\n",
       "      <th>song_title</th>\n",
       "      <th>songs_id</th>\n",
       "      <th>artist</th>\n",
       "    </tr>\n",
       "  </thead>\n",
       "  <tbody>\n",
       "    <tr>\n",
       "      <th>0</th>\n",
       "      <td>0.514</td>\n",
       "      <td>0.730</td>\n",
       "      <td>1</td>\n",
       "      <td>-5.934</td>\n",
       "      <td>1</td>\n",
       "      <td>0.0598</td>\n",
       "      <td>0.00146</td>\n",
       "      <td>0.000095</td>\n",
       "      <td>0.0897</td>\n",
       "      <td>0.334</td>\n",
       "      <td>...</td>\n",
       "      <td>audio_features</td>\n",
       "      <td>0VjIjW4GlUZAMYd2vXMi3b</td>\n",
       "      <td>spotify:track:0VjIjW4GlUZAMYd2vXMi3b</td>\n",
       "      <td>https://api.spotify.com/v1/tracks/0VjIjW4GlUZA...</td>\n",
       "      <td>https://api.spotify.com/v1/audio-analysis/0VjI...</td>\n",
       "      <td>200040</td>\n",
       "      <td>4</td>\n",
       "      <td>Blinding Lights</td>\n",
       "      <td>0VjIjW4GlUZAMYd2vXMi3b</td>\n",
       "      <td>The Weeknd</td>\n",
       "    </tr>\n",
       "    <tr>\n",
       "      <th>1</th>\n",
       "      <td>0.825</td>\n",
       "      <td>0.652</td>\n",
       "      <td>1</td>\n",
       "      <td>-3.183</td>\n",
       "      <td>0</td>\n",
       "      <td>0.0802</td>\n",
       "      <td>0.58100</td>\n",
       "      <td>0.000000</td>\n",
       "      <td>0.0931</td>\n",
       "      <td>0.931</td>\n",
       "      <td>...</td>\n",
       "      <td>audio_features</td>\n",
       "      <td>7qiZfU4dY1lWllzX7mPBI3</td>\n",
       "      <td>spotify:track:7qiZfU4dY1lWllzX7mPBI3</td>\n",
       "      <td>https://api.spotify.com/v1/tracks/7qiZfU4dY1lW...</td>\n",
       "      <td>https://api.spotify.com/v1/audio-analysis/7qiZ...</td>\n",
       "      <td>233713</td>\n",
       "      <td>4</td>\n",
       "      <td>Shape of You</td>\n",
       "      <td>7qiZfU4dY1lWllzX7mPBI3</td>\n",
       "      <td>Ed Sheeran</td>\n",
       "    </tr>\n",
       "    <tr>\n",
       "      <th>2</th>\n",
       "      <td>0.824</td>\n",
       "      <td>0.588</td>\n",
       "      <td>6</td>\n",
       "      <td>-6.400</td>\n",
       "      <td>0</td>\n",
       "      <td>0.0924</td>\n",
       "      <td>0.69200</td>\n",
       "      <td>0.000104</td>\n",
       "      <td>0.1490</td>\n",
       "      <td>0.513</td>\n",
       "      <td>...</td>\n",
       "      <td>audio_features</td>\n",
       "      <td>2XU0oxnq2qxCpomAAuJY8K</td>\n",
       "      <td>spotify:track:2XU0oxnq2qxCpomAAuJY8K</td>\n",
       "      <td>https://api.spotify.com/v1/tracks/2XU0oxnq2qxC...</td>\n",
       "      <td>https://api.spotify.com/v1/audio-analysis/2XU0...</td>\n",
       "      <td>209438</td>\n",
       "      <td>4</td>\n",
       "      <td>Dance Monkey</td>\n",
       "      <td>2XU0oxnq2qxCpomAAuJY8K</td>\n",
       "      <td>Tones And I</td>\n",
       "    </tr>\n",
       "    <tr>\n",
       "      <th>3</th>\n",
       "      <td>0.501</td>\n",
       "      <td>0.405</td>\n",
       "      <td>1</td>\n",
       "      <td>-5.679</td>\n",
       "      <td>1</td>\n",
       "      <td>0.0319</td>\n",
       "      <td>0.75100</td>\n",
       "      <td>0.000000</td>\n",
       "      <td>0.1050</td>\n",
       "      <td>0.446</td>\n",
       "      <td>...</td>\n",
       "      <td>audio_features</td>\n",
       "      <td>7qEHsqek33rTcFNT9PFqLf</td>\n",
       "      <td>spotify:track:7qEHsqek33rTcFNT9PFqLf</td>\n",
       "      <td>https://api.spotify.com/v1/tracks/7qEHsqek33rT...</td>\n",
       "      <td>https://api.spotify.com/v1/audio-analysis/7qEH...</td>\n",
       "      <td>182161</td>\n",
       "      <td>4</td>\n",
       "      <td>Someone You Loved</td>\n",
       "      <td>7qEHsqek33rTcFNT9PFqLf</td>\n",
       "      <td>Lewis Capaldi</td>\n",
       "    </tr>\n",
       "    <tr>\n",
       "      <th>4</th>\n",
       "      <td>0.760</td>\n",
       "      <td>0.479</td>\n",
       "      <td>2</td>\n",
       "      <td>-5.574</td>\n",
       "      <td>1</td>\n",
       "      <td>0.0466</td>\n",
       "      <td>0.55600</td>\n",
       "      <td>0.000000</td>\n",
       "      <td>0.0703</td>\n",
       "      <td>0.913</td>\n",
       "      <td>...</td>\n",
       "      <td>audio_features</td>\n",
       "      <td>3KkXRkHbMCARz0aVfEt68P</td>\n",
       "      <td>spotify:track:3KkXRkHbMCARz0aVfEt68P</td>\n",
       "      <td>https://api.spotify.com/v1/tracks/3KkXRkHbMCAR...</td>\n",
       "      <td>https://api.spotify.com/v1/audio-analysis/3KkX...</td>\n",
       "      <td>158040</td>\n",
       "      <td>4</td>\n",
       "      <td>Sunflower - Spider-Man: Into the Spider-Verse</td>\n",
       "      <td>3KkXRkHbMCARz0aVfEt68P</td>\n",
       "      <td>Post Malone</td>\n",
       "    </tr>\n",
       "  </tbody>\n",
       "</table>\n",
       "<p>5 rows × 21 columns</p>\n",
       "</div>"
      ],
      "text/plain": [
       "   danceability  energy  key  loudness  mode  speechiness  acousticness  \\\n",
       "0         0.514   0.730    1    -5.934     1       0.0598       0.00146   \n",
       "1         0.825   0.652    1    -3.183     0       0.0802       0.58100   \n",
       "2         0.824   0.588    6    -6.400     0       0.0924       0.69200   \n",
       "3         0.501   0.405    1    -5.679     1       0.0319       0.75100   \n",
       "4         0.760   0.479    2    -5.574     1       0.0466       0.55600   \n",
       "\n",
       "   instrumentalness  liveness  valence  ...            type  \\\n",
       "0          0.000095    0.0897    0.334  ...  audio_features   \n",
       "1          0.000000    0.0931    0.931  ...  audio_features   \n",
       "2          0.000104    0.1490    0.513  ...  audio_features   \n",
       "3          0.000000    0.1050    0.446  ...  audio_features   \n",
       "4          0.000000    0.0703    0.913  ...  audio_features   \n",
       "\n",
       "                       id                                   uri  \\\n",
       "0  0VjIjW4GlUZAMYd2vXMi3b  spotify:track:0VjIjW4GlUZAMYd2vXMi3b   \n",
       "1  7qiZfU4dY1lWllzX7mPBI3  spotify:track:7qiZfU4dY1lWllzX7mPBI3   \n",
       "2  2XU0oxnq2qxCpomAAuJY8K  spotify:track:2XU0oxnq2qxCpomAAuJY8K   \n",
       "3  7qEHsqek33rTcFNT9PFqLf  spotify:track:7qEHsqek33rTcFNT9PFqLf   \n",
       "4  3KkXRkHbMCARz0aVfEt68P  spotify:track:3KkXRkHbMCARz0aVfEt68P   \n",
       "\n",
       "                                          track_href  \\\n",
       "0  https://api.spotify.com/v1/tracks/0VjIjW4GlUZA...   \n",
       "1  https://api.spotify.com/v1/tracks/7qiZfU4dY1lW...   \n",
       "2  https://api.spotify.com/v1/tracks/2XU0oxnq2qxC...   \n",
       "3  https://api.spotify.com/v1/tracks/7qEHsqek33rT...   \n",
       "4  https://api.spotify.com/v1/tracks/3KkXRkHbMCAR...   \n",
       "\n",
       "                                        analysis_url duration_ms  \\\n",
       "0  https://api.spotify.com/v1/audio-analysis/0VjI...      200040   \n",
       "1  https://api.spotify.com/v1/audio-analysis/7qiZ...      233713   \n",
       "2  https://api.spotify.com/v1/audio-analysis/2XU0...      209438   \n",
       "3  https://api.spotify.com/v1/audio-analysis/7qEH...      182161   \n",
       "4  https://api.spotify.com/v1/audio-analysis/3KkX...      158040   \n",
       "\n",
       "   time_signature                                     song_title  \\\n",
       "0               4                                Blinding Lights   \n",
       "1               4                                   Shape of You   \n",
       "2               4                                   Dance Monkey   \n",
       "3               4                              Someone You Loved   \n",
       "4               4  Sunflower - Spider-Man: Into the Spider-Verse   \n",
       "\n",
       "                 songs_id         artist  \n",
       "0  0VjIjW4GlUZAMYd2vXMi3b     The Weeknd  \n",
       "1  7qiZfU4dY1lWllzX7mPBI3     Ed Sheeran  \n",
       "2  2XU0oxnq2qxCpomAAuJY8K    Tones And I  \n",
       "3  7qEHsqek33rTcFNT9PFqLf  Lewis Capaldi  \n",
       "4  3KkXRkHbMCARz0aVfEt68P    Post Malone  \n",
       "\n",
       "[5 rows x 21 columns]"
      ]
     },
     "execution_count": 38,
     "metadata": {},
     "output_type": "execute_result"
    }
   ],
   "source": [
    "# Concatenating both final dataframes from both playlists into 1 single dataframe with 165 songs in total (100 from Playlist 1 and 65 from Playlist 2)\n",
    "\n",
    "df4 = pd.concat([df3, df_3], axis=0)\n",
    "df4.head(5)"
   ]
  },
  {
   "cell_type": "code",
   "execution_count": 47,
   "id": "119e378a",
   "metadata": {
    "scrolled": true
   },
   "outputs": [
    {
     "name": "stdout",
     "output_type": "stream",
     "text": [
      "(165, 21)\n",
      "Audio Features Df Columns are:  Index(['danceability', 'energy', 'key', 'loudness', 'mode', 'speechiness',\n",
      "       'acousticness', 'instrumentalness', 'liveness', 'valence', 'tempo',\n",
      "       'type', 'id', 'uri', 'track_href', 'analysis_url', 'duration_ms',\n",
      "       'time_signature', 'song_title', 'songs_id', 'artist'],\n",
      "      dtype='object')\n"
     ]
    }
   ],
   "source": [
    "print(df4.shape)\n",
    "print(\"Audio Features Df Columns are: \",df4.columns)"
   ]
  },
  {
   "cell_type": "code",
   "execution_count": null,
   "id": "8909073c",
   "metadata": {},
   "outputs": [],
   "source": [
    "# saving to a csv file\n",
    "\n",
    "df4.to_csv(\"both_playlists_audio_features.csv\")"
   ]
  }
 ],
 "metadata": {
  "kernelspec": {
   "display_name": "Python 3 (ipykernel)",
   "language": "python",
   "name": "python3"
  },
  "language_info": {
   "codemirror_mode": {
    "name": "ipython",
    "version": 3
   },
   "file_extension": ".py",
   "mimetype": "text/x-python",
   "name": "python",
   "nbconvert_exporter": "python",
   "pygments_lexer": "ipython3",
   "version": "3.9.13"
  }
 },
 "nbformat": 4,
 "nbformat_minor": 5
}
